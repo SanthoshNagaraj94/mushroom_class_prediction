{
  "nbformat": 4,
  "nbformat_minor": 0,
  "metadata": {
    "colab": {
      "name": "mushroom_classification.ipynb",
      "provenance": [],
      "collapsed_sections": [],
      "authorship_tag": "ABX9TyNj23Gc/ZDPftfaC2rZYvfz",
      "include_colab_link": true
    },
    "kernelspec": {
      "name": "python3",
      "display_name": "Python 3"
    },
    "language_info": {
      "name": "python"
    }
  },
  "cells": [
    {
      "cell_type": "markdown",
      "metadata": {
        "id": "view-in-github",
        "colab_type": "text"
      },
      "source": [
        "<a href=\"https://colab.research.google.com/github/SanthoshNagaraj94/mushroom_class_prediction/blob/main/mushroom_classification.ipynb\" target=\"_parent\"><img src=\"https://colab.research.google.com/assets/colab-badge.svg\" alt=\"Open In Colab\"/></a>"
      ]
    },
    {
      "cell_type": "markdown",
      "source": [
        "# Mushroom Classification(Edible/Poisnous)\n",
        "\n",
        "\n",
        "---\n",
        "\n"
      ],
      "metadata": {
        "id": "TMOi_SNFJO17"
      }
    },
    {
      "cell_type": "markdown",
      "source": [
        "# **->Extracting The Data**"
      ],
      "metadata": {
        "id": "QijbIqnVMCud"
      }
    },
    {
      "cell_type": "markdown",
      "source": [
        "Importing Necessary Libraries"
      ],
      "metadata": {
        "id": "RyMcW7BjJsTh"
      }
    },
    {
      "cell_type": "code",
      "metadata": {
        "id": "IBzyWtDEWcwH"
      },
      "source": [
        "import pandas as pd\n",
        "import numpy as np\n",
        "import matplotlib.pyplot as plt\n",
        "import seaborn as sns\n"
      ],
      "execution_count": null,
      "outputs": []
    },
    {
      "cell_type": "markdown",
      "source": [
        "Read the Mushroom DataSet usung pandas"
      ],
      "metadata": {
        "id": "xNz1ujlJJ5Q5"
      }
    },
    {
      "cell_type": "code",
      "metadata": {
        "colab": {
          "base_uri": "https://localhost:8080/",
          "height": 277
        },
        "id": "mfa1p4QiXbRw",
        "outputId": "349a7456-ccaf-4822-c3e7-a70796f55dd3"
      },
      "source": [
        "data=pd.read_csv(\"mushrooms.csv\")\n",
        "data.head()"
      ],
      "execution_count": null,
      "outputs": [
        {
          "output_type": "execute_result",
          "data": {
            "text/html": [
              "<div>\n",
              "<style scoped>\n",
              "    .dataframe tbody tr th:only-of-type {\n",
              "        vertical-align: middle;\n",
              "    }\n",
              "\n",
              "    .dataframe tbody tr th {\n",
              "        vertical-align: top;\n",
              "    }\n",
              "\n",
              "    .dataframe thead th {\n",
              "        text-align: right;\n",
              "    }\n",
              "</style>\n",
              "<table border=\"1\" class=\"dataframe\">\n",
              "  <thead>\n",
              "    <tr style=\"text-align: right;\">\n",
              "      <th></th>\n",
              "      <th>class</th>\n",
              "      <th>cap-shape</th>\n",
              "      <th>cap-surface</th>\n",
              "      <th>cap-color</th>\n",
              "      <th>bruises</th>\n",
              "      <th>odor</th>\n",
              "      <th>gill-attachment</th>\n",
              "      <th>gill-spacing</th>\n",
              "      <th>gill-size</th>\n",
              "      <th>gill-color</th>\n",
              "      <th>stalk-shape</th>\n",
              "      <th>stalk-root</th>\n",
              "      <th>stalk-surface-above-ring</th>\n",
              "      <th>stalk-surface-below-ring</th>\n",
              "      <th>stalk-color-above-ring</th>\n",
              "      <th>stalk-color-below-ring</th>\n",
              "      <th>veil-type</th>\n",
              "      <th>veil-color</th>\n",
              "      <th>ring-number</th>\n",
              "      <th>ring-type</th>\n",
              "      <th>spore-print-color</th>\n",
              "      <th>population</th>\n",
              "      <th>habitat</th>\n",
              "    </tr>\n",
              "  </thead>\n",
              "  <tbody>\n",
              "    <tr>\n",
              "      <th>0</th>\n",
              "      <td>p</td>\n",
              "      <td>x</td>\n",
              "      <td>s</td>\n",
              "      <td>n</td>\n",
              "      <td>t</td>\n",
              "      <td>p</td>\n",
              "      <td>f</td>\n",
              "      <td>c</td>\n",
              "      <td>n</td>\n",
              "      <td>k</td>\n",
              "      <td>e</td>\n",
              "      <td>e</td>\n",
              "      <td>s</td>\n",
              "      <td>s</td>\n",
              "      <td>w</td>\n",
              "      <td>w</td>\n",
              "      <td>p</td>\n",
              "      <td>w</td>\n",
              "      <td>o</td>\n",
              "      <td>p</td>\n",
              "      <td>k</td>\n",
              "      <td>s</td>\n",
              "      <td>u</td>\n",
              "    </tr>\n",
              "    <tr>\n",
              "      <th>1</th>\n",
              "      <td>e</td>\n",
              "      <td>x</td>\n",
              "      <td>s</td>\n",
              "      <td>y</td>\n",
              "      <td>t</td>\n",
              "      <td>a</td>\n",
              "      <td>f</td>\n",
              "      <td>c</td>\n",
              "      <td>b</td>\n",
              "      <td>k</td>\n",
              "      <td>e</td>\n",
              "      <td>c</td>\n",
              "      <td>s</td>\n",
              "      <td>s</td>\n",
              "      <td>w</td>\n",
              "      <td>w</td>\n",
              "      <td>p</td>\n",
              "      <td>w</td>\n",
              "      <td>o</td>\n",
              "      <td>p</td>\n",
              "      <td>n</td>\n",
              "      <td>n</td>\n",
              "      <td>g</td>\n",
              "    </tr>\n",
              "    <tr>\n",
              "      <th>2</th>\n",
              "      <td>e</td>\n",
              "      <td>b</td>\n",
              "      <td>s</td>\n",
              "      <td>w</td>\n",
              "      <td>t</td>\n",
              "      <td>l</td>\n",
              "      <td>f</td>\n",
              "      <td>c</td>\n",
              "      <td>b</td>\n",
              "      <td>n</td>\n",
              "      <td>e</td>\n",
              "      <td>c</td>\n",
              "      <td>s</td>\n",
              "      <td>s</td>\n",
              "      <td>w</td>\n",
              "      <td>w</td>\n",
              "      <td>p</td>\n",
              "      <td>w</td>\n",
              "      <td>o</td>\n",
              "      <td>p</td>\n",
              "      <td>n</td>\n",
              "      <td>n</td>\n",
              "      <td>m</td>\n",
              "    </tr>\n",
              "    <tr>\n",
              "      <th>3</th>\n",
              "      <td>p</td>\n",
              "      <td>x</td>\n",
              "      <td>y</td>\n",
              "      <td>w</td>\n",
              "      <td>t</td>\n",
              "      <td>p</td>\n",
              "      <td>f</td>\n",
              "      <td>c</td>\n",
              "      <td>n</td>\n",
              "      <td>n</td>\n",
              "      <td>e</td>\n",
              "      <td>e</td>\n",
              "      <td>s</td>\n",
              "      <td>s</td>\n",
              "      <td>w</td>\n",
              "      <td>w</td>\n",
              "      <td>p</td>\n",
              "      <td>w</td>\n",
              "      <td>o</td>\n",
              "      <td>p</td>\n",
              "      <td>k</td>\n",
              "      <td>s</td>\n",
              "      <td>u</td>\n",
              "    </tr>\n",
              "    <tr>\n",
              "      <th>4</th>\n",
              "      <td>e</td>\n",
              "      <td>x</td>\n",
              "      <td>s</td>\n",
              "      <td>g</td>\n",
              "      <td>f</td>\n",
              "      <td>n</td>\n",
              "      <td>f</td>\n",
              "      <td>w</td>\n",
              "      <td>b</td>\n",
              "      <td>k</td>\n",
              "      <td>t</td>\n",
              "      <td>e</td>\n",
              "      <td>s</td>\n",
              "      <td>s</td>\n",
              "      <td>w</td>\n",
              "      <td>w</td>\n",
              "      <td>p</td>\n",
              "      <td>w</td>\n",
              "      <td>o</td>\n",
              "      <td>e</td>\n",
              "      <td>n</td>\n",
              "      <td>a</td>\n",
              "      <td>g</td>\n",
              "    </tr>\n",
              "  </tbody>\n",
              "</table>\n",
              "</div>"
            ],
            "text/plain": [
              "  class cap-shape cap-surface  ... spore-print-color population habitat\n",
              "0     p         x           s  ...                 k          s       u\n",
              "1     e         x           s  ...                 n          n       g\n",
              "2     e         b           s  ...                 n          n       m\n",
              "3     p         x           y  ...                 k          s       u\n",
              "4     e         x           s  ...                 n          a       g\n",
              "\n",
              "[5 rows x 23 columns]"
            ]
          },
          "metadata": {},
          "execution_count": 109
        }
      ]
    },
    {
      "cell_type": "markdown",
      "source": [
        "Get the Shape of Data Set"
      ],
      "metadata": {
        "id": "Otn87JD6KDyU"
      }
    },
    {
      "cell_type": "code",
      "metadata": {
        "colab": {
          "base_uri": "https://localhost:8080/"
        },
        "id": "sOJgA56kXnKl",
        "outputId": "f8f8b38f-1723-4db1-8f59-25099a8c3552"
      },
      "source": [
        "data.shape"
      ],
      "execution_count": null,
      "outputs": [
        {
          "output_type": "execute_result",
          "data": {
            "text/plain": [
              "(8124, 23)"
            ]
          },
          "metadata": {},
          "execution_count": 110
        }
      ]
    },
    {
      "cell_type": "code",
      "metadata": {
        "colab": {
          "base_uri": "https://localhost:8080/",
          "height": 246
        },
        "id": "856jyzMjX00t",
        "outputId": "3b428086-a1af-4a98-f621-d64c75004d6e"
      },
      "source": [
        "data.describe()"
      ],
      "execution_count": null,
      "outputs": [
        {
          "output_type": "execute_result",
          "data": {
            "text/html": [
              "<div>\n",
              "<style scoped>\n",
              "    .dataframe tbody tr th:only-of-type {\n",
              "        vertical-align: middle;\n",
              "    }\n",
              "\n",
              "    .dataframe tbody tr th {\n",
              "        vertical-align: top;\n",
              "    }\n",
              "\n",
              "    .dataframe thead th {\n",
              "        text-align: right;\n",
              "    }\n",
              "</style>\n",
              "<table border=\"1\" class=\"dataframe\">\n",
              "  <thead>\n",
              "    <tr style=\"text-align: right;\">\n",
              "      <th></th>\n",
              "      <th>class</th>\n",
              "      <th>cap-shape</th>\n",
              "      <th>cap-surface</th>\n",
              "      <th>cap-color</th>\n",
              "      <th>bruises</th>\n",
              "      <th>odor</th>\n",
              "      <th>gill-attachment</th>\n",
              "      <th>gill-spacing</th>\n",
              "      <th>gill-size</th>\n",
              "      <th>gill-color</th>\n",
              "      <th>stalk-shape</th>\n",
              "      <th>stalk-root</th>\n",
              "      <th>stalk-surface-above-ring</th>\n",
              "      <th>stalk-surface-below-ring</th>\n",
              "      <th>stalk-color-above-ring</th>\n",
              "      <th>stalk-color-below-ring</th>\n",
              "      <th>veil-type</th>\n",
              "      <th>veil-color</th>\n",
              "      <th>ring-number</th>\n",
              "      <th>ring-type</th>\n",
              "      <th>spore-print-color</th>\n",
              "      <th>population</th>\n",
              "      <th>habitat</th>\n",
              "    </tr>\n",
              "  </thead>\n",
              "  <tbody>\n",
              "    <tr>\n",
              "      <th>count</th>\n",
              "      <td>8124</td>\n",
              "      <td>8124</td>\n",
              "      <td>8124</td>\n",
              "      <td>8124</td>\n",
              "      <td>8124</td>\n",
              "      <td>8124</td>\n",
              "      <td>8124</td>\n",
              "      <td>8124</td>\n",
              "      <td>8124</td>\n",
              "      <td>8124</td>\n",
              "      <td>8124</td>\n",
              "      <td>8124</td>\n",
              "      <td>8124</td>\n",
              "      <td>8124</td>\n",
              "      <td>8124</td>\n",
              "      <td>8124</td>\n",
              "      <td>8124</td>\n",
              "      <td>8124</td>\n",
              "      <td>8124</td>\n",
              "      <td>8124</td>\n",
              "      <td>8124</td>\n",
              "      <td>8124</td>\n",
              "      <td>8124</td>\n",
              "    </tr>\n",
              "    <tr>\n",
              "      <th>unique</th>\n",
              "      <td>2</td>\n",
              "      <td>6</td>\n",
              "      <td>4</td>\n",
              "      <td>10</td>\n",
              "      <td>2</td>\n",
              "      <td>9</td>\n",
              "      <td>2</td>\n",
              "      <td>2</td>\n",
              "      <td>2</td>\n",
              "      <td>12</td>\n",
              "      <td>2</td>\n",
              "      <td>5</td>\n",
              "      <td>4</td>\n",
              "      <td>4</td>\n",
              "      <td>9</td>\n",
              "      <td>9</td>\n",
              "      <td>1</td>\n",
              "      <td>4</td>\n",
              "      <td>3</td>\n",
              "      <td>5</td>\n",
              "      <td>9</td>\n",
              "      <td>6</td>\n",
              "      <td>7</td>\n",
              "    </tr>\n",
              "    <tr>\n",
              "      <th>top</th>\n",
              "      <td>e</td>\n",
              "      <td>x</td>\n",
              "      <td>y</td>\n",
              "      <td>n</td>\n",
              "      <td>f</td>\n",
              "      <td>n</td>\n",
              "      <td>f</td>\n",
              "      <td>c</td>\n",
              "      <td>b</td>\n",
              "      <td>b</td>\n",
              "      <td>t</td>\n",
              "      <td>b</td>\n",
              "      <td>s</td>\n",
              "      <td>s</td>\n",
              "      <td>w</td>\n",
              "      <td>w</td>\n",
              "      <td>p</td>\n",
              "      <td>w</td>\n",
              "      <td>o</td>\n",
              "      <td>p</td>\n",
              "      <td>w</td>\n",
              "      <td>v</td>\n",
              "      <td>d</td>\n",
              "    </tr>\n",
              "    <tr>\n",
              "      <th>freq</th>\n",
              "      <td>4208</td>\n",
              "      <td>3656</td>\n",
              "      <td>3244</td>\n",
              "      <td>2284</td>\n",
              "      <td>4748</td>\n",
              "      <td>3528</td>\n",
              "      <td>7914</td>\n",
              "      <td>6812</td>\n",
              "      <td>5612</td>\n",
              "      <td>1728</td>\n",
              "      <td>4608</td>\n",
              "      <td>3776</td>\n",
              "      <td>5176</td>\n",
              "      <td>4936</td>\n",
              "      <td>4464</td>\n",
              "      <td>4384</td>\n",
              "      <td>8124</td>\n",
              "      <td>7924</td>\n",
              "      <td>7488</td>\n",
              "      <td>3968</td>\n",
              "      <td>2388</td>\n",
              "      <td>4040</td>\n",
              "      <td>3148</td>\n",
              "    </tr>\n",
              "  </tbody>\n",
              "</table>\n",
              "</div>"
            ],
            "text/plain": [
              "       class cap-shape cap-surface  ... spore-print-color population habitat\n",
              "count   8124      8124        8124  ...              8124       8124    8124\n",
              "unique     2         6           4  ...                 9          6       7\n",
              "top        e         x           y  ...                 w          v       d\n",
              "freq    4208      3656        3244  ...              2388       4040    3148\n",
              "\n",
              "[4 rows x 23 columns]"
            ]
          },
          "metadata": {},
          "execution_count": 111
        }
      ]
    },
    {
      "cell_type": "markdown",
      "source": [
        "Check The Null Value in DataSet"
      ],
      "metadata": {
        "id": "t8k06_8PKUdG"
      }
    },
    {
      "cell_type": "code",
      "metadata": {
        "colab": {
          "base_uri": "https://localhost:8080/"
        },
        "id": "K_Uge9EbX5pF",
        "outputId": "0747d42d-2b8b-4bda-dcad-ab0c58c35808"
      },
      "source": [
        "data.isnull().sum()"
      ],
      "execution_count": null,
      "outputs": [
        {
          "output_type": "execute_result",
          "data": {
            "text/plain": [
              "class                       0\n",
              "cap-shape                   0\n",
              "cap-surface                 0\n",
              "cap-color                   0\n",
              "bruises                     0\n",
              "odor                        0\n",
              "gill-attachment             0\n",
              "gill-spacing                0\n",
              "gill-size                   0\n",
              "gill-color                  0\n",
              "stalk-shape                 0\n",
              "stalk-root                  0\n",
              "stalk-surface-above-ring    0\n",
              "stalk-surface-below-ring    0\n",
              "stalk-color-above-ring      0\n",
              "stalk-color-below-ring      0\n",
              "veil-type                   0\n",
              "veil-color                  0\n",
              "ring-number                 0\n",
              "ring-type                   0\n",
              "spore-print-color           0\n",
              "population                  0\n",
              "habitat                     0\n",
              "dtype: int64"
            ]
          },
          "metadata": {},
          "execution_count": 112
        }
      ]
    },
    {
      "cell_type": "markdown",
      "source": [
        "Find The unique values in each Colums(features)"
      ],
      "metadata": {
        "id": "kBsF0L1bKcdm"
      }
    },
    {
      "cell_type": "code",
      "metadata": {
        "colab": {
          "base_uri": "https://localhost:8080/"
        },
        "id": "aHxDCWjC87HE",
        "outputId": "19c03d4f-10c9-4f83-e739-bd0d3b812d0c"
      },
      "source": [
        "uniqs=[]\n",
        "for x in data.columns:\n",
        "  uniqs.append(data[x].value_counts())\n",
        "  uniqs.append(\"******\")\n",
        "\n",
        "uniqs"
      ],
      "execution_count": null,
      "outputs": [
        {
          "output_type": "execute_result",
          "data": {
            "text/plain": [
              "[e    4208\n",
              " p    3916\n",
              " Name: class, dtype: int64, '******', x    3656\n",
              " f    3152\n",
              " k     828\n",
              " b     452\n",
              " s      32\n",
              " c       4\n",
              " Name: cap-shape, dtype: int64, '******', y    3244\n",
              " s    2556\n",
              " f    2320\n",
              " g       4\n",
              " Name: cap-surface, dtype: int64, '******', n    2284\n",
              " g    1840\n",
              " e    1500\n",
              " y    1072\n",
              " w    1040\n",
              " b     168\n",
              " p     144\n",
              " c      44\n",
              " r      16\n",
              " u      16\n",
              " Name: cap-color, dtype: int64, '******', f    4748\n",
              " t    3376\n",
              " Name: bruises, dtype: int64, '******', n    3528\n",
              " f    2160\n",
              " s     576\n",
              " y     576\n",
              " l     400\n",
              " a     400\n",
              " p     256\n",
              " c     192\n",
              " m      36\n",
              " Name: odor, dtype: int64, '******', f    7914\n",
              " a     210\n",
              " Name: gill-attachment, dtype: int64, '******', c    6812\n",
              " w    1312\n",
              " Name: gill-spacing, dtype: int64, '******', b    5612\n",
              " n    2512\n",
              " Name: gill-size, dtype: int64, '******', b    1728\n",
              " p    1492\n",
              " w    1202\n",
              " n    1048\n",
              " g     752\n",
              " h     732\n",
              " u     492\n",
              " k     408\n",
              " e      96\n",
              " y      86\n",
              " o      64\n",
              " r      24\n",
              " Name: gill-color, dtype: int64, '******', t    4608\n",
              " e    3516\n",
              " Name: stalk-shape, dtype: int64, '******', b    3776\n",
              " ?    2480\n",
              " e    1120\n",
              " c     556\n",
              " r     192\n",
              " Name: stalk-root, dtype: int64, '******', s    5176\n",
              " k    2372\n",
              " f     552\n",
              " y      24\n",
              " Name: stalk-surface-above-ring, dtype: int64, '******', s    4936\n",
              " k    2304\n",
              " f     600\n",
              " y     284\n",
              " Name: stalk-surface-below-ring, dtype: int64, '******', w    4464\n",
              " p    1872\n",
              " g     576\n",
              " n     448\n",
              " b     432\n",
              " o     192\n",
              " e      96\n",
              " c      36\n",
              " y       8\n",
              " Name: stalk-color-above-ring, dtype: int64, '******', w    4384\n",
              " p    1872\n",
              " g     576\n",
              " n     512\n",
              " b     432\n",
              " o     192\n",
              " e      96\n",
              " c      36\n",
              " y      24\n",
              " Name: stalk-color-below-ring, dtype: int64, '******', p    8124\n",
              " Name: veil-type, dtype: int64, '******', w    7924\n",
              " n      96\n",
              " o      96\n",
              " y       8\n",
              " Name: veil-color, dtype: int64, '******', o    7488\n",
              " t     600\n",
              " n      36\n",
              " Name: ring-number, dtype: int64, '******', p    3968\n",
              " e    2776\n",
              " l    1296\n",
              " f      48\n",
              " n      36\n",
              " Name: ring-type, dtype: int64, '******', w    2388\n",
              " n    1968\n",
              " k    1872\n",
              " h    1632\n",
              " r      72\n",
              " o      48\n",
              " u      48\n",
              " b      48\n",
              " y      48\n",
              " Name: spore-print-color, dtype: int64, '******', v    4040\n",
              " y    1712\n",
              " s    1248\n",
              " n     400\n",
              " a     384\n",
              " c     340\n",
              " Name: population, dtype: int64, '******', d    3148\n",
              " g    2148\n",
              " p    1144\n",
              " l     832\n",
              " u     368\n",
              " m     292\n",
              " w     192\n",
              " Name: habitat, dtype: int64, '******']"
            ]
          },
          "metadata": {},
          "execution_count": 113
        }
      ]
    },
    {
      "cell_type": "markdown",
      "source": [
        "Changing the alphabets into Readable data as Given in the Data Documentation"
      ],
      "metadata": {
        "id": "hDwJ13o_Kpth"
      }
    },
    {
      "cell_type": "code",
      "metadata": {
        "id": "YxNIh5lnnO4O"
      },
      "source": [
        "data[\"class\"].replace({\"e\": \"edible\", \"p\": \"poisonous\"}, inplace=True)\n"
      ],
      "execution_count": null,
      "outputs": []
    },
    {
      "cell_type": "code",
      "metadata": {
        "id": "Y4_VBHjgDy_i"
      },
      "source": [
        "data[\"cap-shape\"].replace({'b':'bell','c':'conical','x':'convex','f':'flat','k':'knobbed','s':'sunken'}, inplace=True)\n",
        "\n",
        "data[\"cap-surface\"].replace({'g':'grooves','y':'scaly','f':'fibrous','s':'smooth'}, inplace=True)\n",
        "\n",
        "\n",
        "data[\"cap-color\"].replace({'n':'brown','b':'buff','c':'cinnamon','g':'gray','r':'green','p':'pink','u':'purple','e':'red','w':'white','y':'yellow'}, inplace=True)\n",
        "\n",
        "data[\"bruises\"].replace({'t':'bruises','f':'no'}, inplace=True)\n",
        "\n",
        "\n",
        "data[\"odor\"].replace({'a':'almond','l':'anise','c':'creosote','y':'fishy','f':'foul','m':'musty','n':'none','p':'pungent','s':'spicy'}, inplace=True)\n",
        "\n",
        "data[\"gill-attachment\"].replace({'a':'attached','f':'free'}, inplace=True)\n",
        "\n",
        "\n",
        "data[\"gill-spacing\"].replace({'c':'close','w':'crowded'}, inplace=True)\n",
        "\n",
        "data[\"gill-size\"].replace({'b':'broad','n':'narrow'}, inplace=True)\n",
        "\n",
        "\n",
        "\n",
        "data[\"gill-color\"].replace({'k':'black','n':'brown','b':'buff','h':'chocolate','g':'gray','r':'green','o':'orange','p':'pink','u':'purple','e':'red','w':'white','y':'yellow'}, inplace=True)\n",
        "\n",
        "data[\"stalk-shape\"].replace({'e':'enlarging','t':'tapering'}, inplace=True)\n",
        "\n",
        "\n",
        "\n",
        "data[\"stalk-root\"].replace({'b':'bulbous','c':'club','e':'equal','r':'rooted','?':'missing'}, inplace=True)\n",
        "\n",
        "data[\"stalk-surface-above-ring\"].replace({'f':'fibrous','y':'scaly','k':'silky','s':'smooth'}, inplace=True)\n",
        "\n",
        "data[\"stalk-surface-below-ring\"].replace({'f':'fibrous','y':'scaly','k':'silky','s':'smooth'}, inplace=True)\n",
        "\n",
        "\n",
        "data[\"stalk-color-above-ring\"].replace({'n':'brown','b':'buff','c':'cinnamon','g':'gray','r':'green','p':'pink','u':'purple','e':'red','w':'white','y':'yellow','o':'orange'}, inplace=True)\n",
        "\n",
        "data[\"stalk-color-below-ring\"].replace({'n':'brown','b':'buff','c':'cinnamon','g':'gray','r':'green','p':'pink','u':'purple','e':'red','w':'white','y':'yellow','o':'orange'}, inplace=True)\n",
        "\n",
        "data[\"veil-type\"].replace({'p':'partial'}, inplace=True)\n",
        "\n",
        "\n",
        "\n",
        "\n",
        "data[\"veil-color\"].replace({'n':'brown','w':'white','y':'yellow','o':'orange'}, inplace=True)\n",
        "\n",
        "data[\"ring-number\"].replace({'n':'none','o':'one','t':'two'}, inplace=True)\n",
        "\n",
        "data[\"ring-type\"].replace({'e':'evanescent','f':'flaring','l':'large','n':'none','p':'pendant'}, inplace=True)\n",
        "\n",
        "\n",
        "\n",
        "data[\"spore-print-color\"].replace({'n':'brown','b':'buff','g':'gray','r':'green','p':'pink','u':'purple','e':'red','w':'white','y':'yellow','o':'orange','h':'choclate','k':'black'}, inplace=True)\n",
        "\n",
        "data[\"population\"].replace({'a':'abundant','c':'clustered','n':'numerous','s':'scattered','v':'several','y':'solitary'}, inplace=True)\n",
        "\n",
        "data[\"habitat\"].replace({'g':'grasses','l':'leaves','m':'meadows','p':'paths','u':'urban','w':'waste','d':'woods'}, inplace=True)\n",
        "\n",
        "\n",
        "\n"
      ],
      "execution_count": null,
      "outputs": []
    },
    {
      "cell_type": "code",
      "metadata": {
        "id": "t4ddKjUvN9KA"
      },
      "source": [
        ""
      ],
      "execution_count": null,
      "outputs": []
    },
    {
      "cell_type": "code",
      "metadata": {
        "colab": {
          "base_uri": "https://localhost:8080/",
          "height": 277
        },
        "id": "2O71NXohYTyF",
        "outputId": "a2ead79e-c9f6-4ca1-d545-b1a949352890"
      },
      "source": [
        "data.head()"
      ],
      "execution_count": null,
      "outputs": [
        {
          "output_type": "execute_result",
          "data": {
            "text/html": [
              "<div>\n",
              "<style scoped>\n",
              "    .dataframe tbody tr th:only-of-type {\n",
              "        vertical-align: middle;\n",
              "    }\n",
              "\n",
              "    .dataframe tbody tr th {\n",
              "        vertical-align: top;\n",
              "    }\n",
              "\n",
              "    .dataframe thead th {\n",
              "        text-align: right;\n",
              "    }\n",
              "</style>\n",
              "<table border=\"1\" class=\"dataframe\">\n",
              "  <thead>\n",
              "    <tr style=\"text-align: right;\">\n",
              "      <th></th>\n",
              "      <th>class</th>\n",
              "      <th>cap-shape</th>\n",
              "      <th>cap-surface</th>\n",
              "      <th>cap-color</th>\n",
              "      <th>bruises</th>\n",
              "      <th>odor</th>\n",
              "      <th>gill-attachment</th>\n",
              "      <th>gill-spacing</th>\n",
              "      <th>gill-size</th>\n",
              "      <th>gill-color</th>\n",
              "      <th>stalk-shape</th>\n",
              "      <th>stalk-root</th>\n",
              "      <th>stalk-surface-above-ring</th>\n",
              "      <th>stalk-surface-below-ring</th>\n",
              "      <th>stalk-color-above-ring</th>\n",
              "      <th>stalk-color-below-ring</th>\n",
              "      <th>veil-type</th>\n",
              "      <th>veil-color</th>\n",
              "      <th>ring-number</th>\n",
              "      <th>ring-type</th>\n",
              "      <th>spore-print-color</th>\n",
              "      <th>population</th>\n",
              "      <th>habitat</th>\n",
              "    </tr>\n",
              "  </thead>\n",
              "  <tbody>\n",
              "    <tr>\n",
              "      <th>0</th>\n",
              "      <td>poisonous</td>\n",
              "      <td>convex</td>\n",
              "      <td>smooth</td>\n",
              "      <td>brown</td>\n",
              "      <td>bruises</td>\n",
              "      <td>pungent</td>\n",
              "      <td>free</td>\n",
              "      <td>close</td>\n",
              "      <td>narrow</td>\n",
              "      <td>black</td>\n",
              "      <td>enlarging</td>\n",
              "      <td>equal</td>\n",
              "      <td>smooth</td>\n",
              "      <td>smooth</td>\n",
              "      <td>white</td>\n",
              "      <td>white</td>\n",
              "      <td>partial</td>\n",
              "      <td>white</td>\n",
              "      <td>one</td>\n",
              "      <td>pendant</td>\n",
              "      <td>black</td>\n",
              "      <td>scattered</td>\n",
              "      <td>urban</td>\n",
              "    </tr>\n",
              "    <tr>\n",
              "      <th>1</th>\n",
              "      <td>edible</td>\n",
              "      <td>convex</td>\n",
              "      <td>smooth</td>\n",
              "      <td>yellow</td>\n",
              "      <td>bruises</td>\n",
              "      <td>almond</td>\n",
              "      <td>free</td>\n",
              "      <td>close</td>\n",
              "      <td>broad</td>\n",
              "      <td>black</td>\n",
              "      <td>enlarging</td>\n",
              "      <td>club</td>\n",
              "      <td>smooth</td>\n",
              "      <td>smooth</td>\n",
              "      <td>white</td>\n",
              "      <td>white</td>\n",
              "      <td>partial</td>\n",
              "      <td>white</td>\n",
              "      <td>one</td>\n",
              "      <td>pendant</td>\n",
              "      <td>brown</td>\n",
              "      <td>numerous</td>\n",
              "      <td>grasses</td>\n",
              "    </tr>\n",
              "    <tr>\n",
              "      <th>2</th>\n",
              "      <td>edible</td>\n",
              "      <td>bell</td>\n",
              "      <td>smooth</td>\n",
              "      <td>white</td>\n",
              "      <td>bruises</td>\n",
              "      <td>anise</td>\n",
              "      <td>free</td>\n",
              "      <td>close</td>\n",
              "      <td>broad</td>\n",
              "      <td>brown</td>\n",
              "      <td>enlarging</td>\n",
              "      <td>club</td>\n",
              "      <td>smooth</td>\n",
              "      <td>smooth</td>\n",
              "      <td>white</td>\n",
              "      <td>white</td>\n",
              "      <td>partial</td>\n",
              "      <td>white</td>\n",
              "      <td>one</td>\n",
              "      <td>pendant</td>\n",
              "      <td>brown</td>\n",
              "      <td>numerous</td>\n",
              "      <td>meadows</td>\n",
              "    </tr>\n",
              "    <tr>\n",
              "      <th>3</th>\n",
              "      <td>poisonous</td>\n",
              "      <td>convex</td>\n",
              "      <td>scaly</td>\n",
              "      <td>white</td>\n",
              "      <td>bruises</td>\n",
              "      <td>pungent</td>\n",
              "      <td>free</td>\n",
              "      <td>close</td>\n",
              "      <td>narrow</td>\n",
              "      <td>brown</td>\n",
              "      <td>enlarging</td>\n",
              "      <td>equal</td>\n",
              "      <td>smooth</td>\n",
              "      <td>smooth</td>\n",
              "      <td>white</td>\n",
              "      <td>white</td>\n",
              "      <td>partial</td>\n",
              "      <td>white</td>\n",
              "      <td>one</td>\n",
              "      <td>pendant</td>\n",
              "      <td>black</td>\n",
              "      <td>scattered</td>\n",
              "      <td>urban</td>\n",
              "    </tr>\n",
              "    <tr>\n",
              "      <th>4</th>\n",
              "      <td>edible</td>\n",
              "      <td>convex</td>\n",
              "      <td>smooth</td>\n",
              "      <td>gray</td>\n",
              "      <td>no</td>\n",
              "      <td>none</td>\n",
              "      <td>free</td>\n",
              "      <td>crowded</td>\n",
              "      <td>broad</td>\n",
              "      <td>black</td>\n",
              "      <td>tapering</td>\n",
              "      <td>equal</td>\n",
              "      <td>smooth</td>\n",
              "      <td>smooth</td>\n",
              "      <td>white</td>\n",
              "      <td>white</td>\n",
              "      <td>partial</td>\n",
              "      <td>white</td>\n",
              "      <td>one</td>\n",
              "      <td>evanescent</td>\n",
              "      <td>brown</td>\n",
              "      <td>abundant</td>\n",
              "      <td>grasses</td>\n",
              "    </tr>\n",
              "  </tbody>\n",
              "</table>\n",
              "</div>"
            ],
            "text/plain": [
              "       class cap-shape cap-surface  ... spore-print-color population  habitat\n",
              "0  poisonous    convex      smooth  ...             black  scattered    urban\n",
              "1     edible    convex      smooth  ...             brown   numerous  grasses\n",
              "2     edible      bell      smooth  ...             brown   numerous  meadows\n",
              "3  poisonous    convex       scaly  ...             black  scattered    urban\n",
              "4     edible    convex      smooth  ...             brown   abundant  grasses\n",
              "\n",
              "[5 rows x 23 columns]"
            ]
          },
          "metadata": {},
          "execution_count": 116
        }
      ]
    },
    {
      "cell_type": "code",
      "metadata": {
        "id": "7VcCzGoEi9tl"
      },
      "source": [
        "classes=data['class']\n",
        "data.drop(['class'],axis=1,inplace=True)\n",
        "data['class']=classes"
      ],
      "execution_count": null,
      "outputs": []
    },
    {
      "cell_type": "code",
      "metadata": {
        "colab": {
          "base_uri": "https://localhost:8080/",
          "height": 494
        },
        "id": "NpVukXBCi-0t",
        "outputId": "1a05aa06-da04-467d-8fea-fe0ddd189fe1"
      },
      "source": [
        "data"
      ],
      "execution_count": null,
      "outputs": [
        {
          "output_type": "execute_result",
          "data": {
            "text/html": [
              "<div>\n",
              "<style scoped>\n",
              "    .dataframe tbody tr th:only-of-type {\n",
              "        vertical-align: middle;\n",
              "    }\n",
              "\n",
              "    .dataframe tbody tr th {\n",
              "        vertical-align: top;\n",
              "    }\n",
              "\n",
              "    .dataframe thead th {\n",
              "        text-align: right;\n",
              "    }\n",
              "</style>\n",
              "<table border=\"1\" class=\"dataframe\">\n",
              "  <thead>\n",
              "    <tr style=\"text-align: right;\">\n",
              "      <th></th>\n",
              "      <th>cap-shape</th>\n",
              "      <th>cap-surface</th>\n",
              "      <th>cap-color</th>\n",
              "      <th>bruises</th>\n",
              "      <th>odor</th>\n",
              "      <th>gill-attachment</th>\n",
              "      <th>gill-spacing</th>\n",
              "      <th>gill-size</th>\n",
              "      <th>gill-color</th>\n",
              "      <th>stalk-shape</th>\n",
              "      <th>stalk-root</th>\n",
              "      <th>stalk-surface-above-ring</th>\n",
              "      <th>stalk-surface-below-ring</th>\n",
              "      <th>stalk-color-above-ring</th>\n",
              "      <th>stalk-color-below-ring</th>\n",
              "      <th>veil-type</th>\n",
              "      <th>veil-color</th>\n",
              "      <th>ring-number</th>\n",
              "      <th>ring-type</th>\n",
              "      <th>spore-print-color</th>\n",
              "      <th>population</th>\n",
              "      <th>habitat</th>\n",
              "      <th>class</th>\n",
              "    </tr>\n",
              "  </thead>\n",
              "  <tbody>\n",
              "    <tr>\n",
              "      <th>0</th>\n",
              "      <td>convex</td>\n",
              "      <td>smooth</td>\n",
              "      <td>brown</td>\n",
              "      <td>bruises</td>\n",
              "      <td>pungent</td>\n",
              "      <td>free</td>\n",
              "      <td>close</td>\n",
              "      <td>narrow</td>\n",
              "      <td>black</td>\n",
              "      <td>enlarging</td>\n",
              "      <td>equal</td>\n",
              "      <td>smooth</td>\n",
              "      <td>smooth</td>\n",
              "      <td>white</td>\n",
              "      <td>white</td>\n",
              "      <td>partial</td>\n",
              "      <td>white</td>\n",
              "      <td>one</td>\n",
              "      <td>pendant</td>\n",
              "      <td>black</td>\n",
              "      <td>scattered</td>\n",
              "      <td>urban</td>\n",
              "      <td>poisonous</td>\n",
              "    </tr>\n",
              "    <tr>\n",
              "      <th>1</th>\n",
              "      <td>convex</td>\n",
              "      <td>smooth</td>\n",
              "      <td>yellow</td>\n",
              "      <td>bruises</td>\n",
              "      <td>almond</td>\n",
              "      <td>free</td>\n",
              "      <td>close</td>\n",
              "      <td>broad</td>\n",
              "      <td>black</td>\n",
              "      <td>enlarging</td>\n",
              "      <td>club</td>\n",
              "      <td>smooth</td>\n",
              "      <td>smooth</td>\n",
              "      <td>white</td>\n",
              "      <td>white</td>\n",
              "      <td>partial</td>\n",
              "      <td>white</td>\n",
              "      <td>one</td>\n",
              "      <td>pendant</td>\n",
              "      <td>brown</td>\n",
              "      <td>numerous</td>\n",
              "      <td>grasses</td>\n",
              "      <td>edible</td>\n",
              "    </tr>\n",
              "    <tr>\n",
              "      <th>2</th>\n",
              "      <td>bell</td>\n",
              "      <td>smooth</td>\n",
              "      <td>white</td>\n",
              "      <td>bruises</td>\n",
              "      <td>anise</td>\n",
              "      <td>free</td>\n",
              "      <td>close</td>\n",
              "      <td>broad</td>\n",
              "      <td>brown</td>\n",
              "      <td>enlarging</td>\n",
              "      <td>club</td>\n",
              "      <td>smooth</td>\n",
              "      <td>smooth</td>\n",
              "      <td>white</td>\n",
              "      <td>white</td>\n",
              "      <td>partial</td>\n",
              "      <td>white</td>\n",
              "      <td>one</td>\n",
              "      <td>pendant</td>\n",
              "      <td>brown</td>\n",
              "      <td>numerous</td>\n",
              "      <td>meadows</td>\n",
              "      <td>edible</td>\n",
              "    </tr>\n",
              "    <tr>\n",
              "      <th>3</th>\n",
              "      <td>convex</td>\n",
              "      <td>scaly</td>\n",
              "      <td>white</td>\n",
              "      <td>bruises</td>\n",
              "      <td>pungent</td>\n",
              "      <td>free</td>\n",
              "      <td>close</td>\n",
              "      <td>narrow</td>\n",
              "      <td>brown</td>\n",
              "      <td>enlarging</td>\n",
              "      <td>equal</td>\n",
              "      <td>smooth</td>\n",
              "      <td>smooth</td>\n",
              "      <td>white</td>\n",
              "      <td>white</td>\n",
              "      <td>partial</td>\n",
              "      <td>white</td>\n",
              "      <td>one</td>\n",
              "      <td>pendant</td>\n",
              "      <td>black</td>\n",
              "      <td>scattered</td>\n",
              "      <td>urban</td>\n",
              "      <td>poisonous</td>\n",
              "    </tr>\n",
              "    <tr>\n",
              "      <th>4</th>\n",
              "      <td>convex</td>\n",
              "      <td>smooth</td>\n",
              "      <td>gray</td>\n",
              "      <td>no</td>\n",
              "      <td>none</td>\n",
              "      <td>free</td>\n",
              "      <td>crowded</td>\n",
              "      <td>broad</td>\n",
              "      <td>black</td>\n",
              "      <td>tapering</td>\n",
              "      <td>equal</td>\n",
              "      <td>smooth</td>\n",
              "      <td>smooth</td>\n",
              "      <td>white</td>\n",
              "      <td>white</td>\n",
              "      <td>partial</td>\n",
              "      <td>white</td>\n",
              "      <td>one</td>\n",
              "      <td>evanescent</td>\n",
              "      <td>brown</td>\n",
              "      <td>abundant</td>\n",
              "      <td>grasses</td>\n",
              "      <td>edible</td>\n",
              "    </tr>\n",
              "    <tr>\n",
              "      <th>...</th>\n",
              "      <td>...</td>\n",
              "      <td>...</td>\n",
              "      <td>...</td>\n",
              "      <td>...</td>\n",
              "      <td>...</td>\n",
              "      <td>...</td>\n",
              "      <td>...</td>\n",
              "      <td>...</td>\n",
              "      <td>...</td>\n",
              "      <td>...</td>\n",
              "      <td>...</td>\n",
              "      <td>...</td>\n",
              "      <td>...</td>\n",
              "      <td>...</td>\n",
              "      <td>...</td>\n",
              "      <td>...</td>\n",
              "      <td>...</td>\n",
              "      <td>...</td>\n",
              "      <td>...</td>\n",
              "      <td>...</td>\n",
              "      <td>...</td>\n",
              "      <td>...</td>\n",
              "      <td>...</td>\n",
              "    </tr>\n",
              "    <tr>\n",
              "      <th>8119</th>\n",
              "      <td>knobbed</td>\n",
              "      <td>smooth</td>\n",
              "      <td>brown</td>\n",
              "      <td>no</td>\n",
              "      <td>none</td>\n",
              "      <td>attached</td>\n",
              "      <td>close</td>\n",
              "      <td>broad</td>\n",
              "      <td>yellow</td>\n",
              "      <td>enlarging</td>\n",
              "      <td>missing</td>\n",
              "      <td>smooth</td>\n",
              "      <td>smooth</td>\n",
              "      <td>orange</td>\n",
              "      <td>orange</td>\n",
              "      <td>partial</td>\n",
              "      <td>orange</td>\n",
              "      <td>one</td>\n",
              "      <td>pendant</td>\n",
              "      <td>buff</td>\n",
              "      <td>clustered</td>\n",
              "      <td>leaves</td>\n",
              "      <td>edible</td>\n",
              "    </tr>\n",
              "    <tr>\n",
              "      <th>8120</th>\n",
              "      <td>convex</td>\n",
              "      <td>smooth</td>\n",
              "      <td>brown</td>\n",
              "      <td>no</td>\n",
              "      <td>none</td>\n",
              "      <td>attached</td>\n",
              "      <td>close</td>\n",
              "      <td>broad</td>\n",
              "      <td>yellow</td>\n",
              "      <td>enlarging</td>\n",
              "      <td>missing</td>\n",
              "      <td>smooth</td>\n",
              "      <td>smooth</td>\n",
              "      <td>orange</td>\n",
              "      <td>orange</td>\n",
              "      <td>partial</td>\n",
              "      <td>brown</td>\n",
              "      <td>one</td>\n",
              "      <td>pendant</td>\n",
              "      <td>buff</td>\n",
              "      <td>several</td>\n",
              "      <td>leaves</td>\n",
              "      <td>edible</td>\n",
              "    </tr>\n",
              "    <tr>\n",
              "      <th>8121</th>\n",
              "      <td>flat</td>\n",
              "      <td>smooth</td>\n",
              "      <td>brown</td>\n",
              "      <td>no</td>\n",
              "      <td>none</td>\n",
              "      <td>attached</td>\n",
              "      <td>close</td>\n",
              "      <td>broad</td>\n",
              "      <td>brown</td>\n",
              "      <td>enlarging</td>\n",
              "      <td>missing</td>\n",
              "      <td>smooth</td>\n",
              "      <td>smooth</td>\n",
              "      <td>orange</td>\n",
              "      <td>orange</td>\n",
              "      <td>partial</td>\n",
              "      <td>orange</td>\n",
              "      <td>one</td>\n",
              "      <td>pendant</td>\n",
              "      <td>buff</td>\n",
              "      <td>clustered</td>\n",
              "      <td>leaves</td>\n",
              "      <td>edible</td>\n",
              "    </tr>\n",
              "    <tr>\n",
              "      <th>8122</th>\n",
              "      <td>knobbed</td>\n",
              "      <td>scaly</td>\n",
              "      <td>brown</td>\n",
              "      <td>no</td>\n",
              "      <td>fishy</td>\n",
              "      <td>free</td>\n",
              "      <td>close</td>\n",
              "      <td>narrow</td>\n",
              "      <td>buff</td>\n",
              "      <td>tapering</td>\n",
              "      <td>missing</td>\n",
              "      <td>smooth</td>\n",
              "      <td>silky</td>\n",
              "      <td>white</td>\n",
              "      <td>white</td>\n",
              "      <td>partial</td>\n",
              "      <td>white</td>\n",
              "      <td>one</td>\n",
              "      <td>evanescent</td>\n",
              "      <td>white</td>\n",
              "      <td>several</td>\n",
              "      <td>leaves</td>\n",
              "      <td>poisonous</td>\n",
              "    </tr>\n",
              "    <tr>\n",
              "      <th>8123</th>\n",
              "      <td>convex</td>\n",
              "      <td>smooth</td>\n",
              "      <td>brown</td>\n",
              "      <td>no</td>\n",
              "      <td>none</td>\n",
              "      <td>attached</td>\n",
              "      <td>close</td>\n",
              "      <td>broad</td>\n",
              "      <td>yellow</td>\n",
              "      <td>enlarging</td>\n",
              "      <td>missing</td>\n",
              "      <td>smooth</td>\n",
              "      <td>smooth</td>\n",
              "      <td>orange</td>\n",
              "      <td>orange</td>\n",
              "      <td>partial</td>\n",
              "      <td>orange</td>\n",
              "      <td>one</td>\n",
              "      <td>pendant</td>\n",
              "      <td>orange</td>\n",
              "      <td>clustered</td>\n",
              "      <td>leaves</td>\n",
              "      <td>edible</td>\n",
              "    </tr>\n",
              "  </tbody>\n",
              "</table>\n",
              "<p>8124 rows × 23 columns</p>\n",
              "</div>"
            ],
            "text/plain": [
              "     cap-shape cap-surface cap-color  ... population  habitat      class\n",
              "0       convex      smooth     brown  ...  scattered    urban  poisonous\n",
              "1       convex      smooth    yellow  ...   numerous  grasses     edible\n",
              "2         bell      smooth     white  ...   numerous  meadows     edible\n",
              "3       convex       scaly     white  ...  scattered    urban  poisonous\n",
              "4       convex      smooth      gray  ...   abundant  grasses     edible\n",
              "...        ...         ...       ...  ...        ...      ...        ...\n",
              "8119   knobbed      smooth     brown  ...  clustered   leaves     edible\n",
              "8120    convex      smooth     brown  ...    several   leaves     edible\n",
              "8121      flat      smooth     brown  ...  clustered   leaves     edible\n",
              "8122   knobbed       scaly     brown  ...    several   leaves  poisonous\n",
              "8123    convex      smooth     brown  ...  clustered   leaves     edible\n",
              "\n",
              "[8124 rows x 23 columns]"
            ]
          },
          "metadata": {},
          "execution_count": 118
        }
      ]
    },
    {
      "cell_type": "markdown",
      "source": [
        "Get the each coloum Names"
      ],
      "metadata": {
        "id": "-83j1gALLmxY"
      }
    },
    {
      "cell_type": "code",
      "metadata": {
        "colab": {
          "base_uri": "https://localhost:8080/"
        },
        "id": "nlv4k8_h6kpT",
        "outputId": "b5e20e19-1e9a-4331-b289-ab8f520132bf"
      },
      "source": [
        "col=data.columns\n",
        "col"
      ],
      "execution_count": null,
      "outputs": [
        {
          "output_type": "execute_result",
          "data": {
            "text/plain": [
              "Index(['cap-shape', 'cap-surface', 'cap-color', 'bruises', 'odor',\n",
              "       'gill-attachment', 'gill-spacing', 'gill-size', 'gill-color',\n",
              "       'stalk-shape', 'stalk-root', 'stalk-surface-above-ring',\n",
              "       'stalk-surface-below-ring', 'stalk-color-above-ring',\n",
              "       'stalk-color-below-ring', 'veil-type', 'veil-color', 'ring-number',\n",
              "       'ring-type', 'spore-print-color', 'population', 'habitat', 'class'],\n",
              "      dtype='object')"
            ]
          },
          "metadata": {},
          "execution_count": 119
        }
      ]
    },
    {
      "cell_type": "markdown",
      "source": [
        "Make The count of Each unique values in the Each Column"
      ],
      "metadata": {
        "id": "KRz214HuL0kz"
      }
    },
    {
      "cell_type": "code",
      "metadata": {
        "id": "Ba6_woP36sHw"
      },
      "source": [
        "uniqs=[]\n",
        "for x in col:\n",
        "  uniqs.append(data[x].value_counts())\n"
      ],
      "execution_count": null,
      "outputs": []
    },
    {
      "cell_type": "code",
      "metadata": {
        "colab": {
          "base_uri": "https://localhost:8080/"
        },
        "id": "yHCjvivo7K5g",
        "outputId": "a673cbef-7e42-4ec9-f429-19a61e4c9589"
      },
      "source": [
        "uniqs"
      ],
      "execution_count": null,
      "outputs": [
        {
          "output_type": "execute_result",
          "data": {
            "text/plain": [
              "[convex     3656\n",
              " flat       3152\n",
              " knobbed     828\n",
              " bell        452\n",
              " sunken       32\n",
              " conical       4\n",
              " Name: cap-shape, dtype: int64, scaly      3244\n",
              " smooth     2556\n",
              " fibrous    2320\n",
              " grooves       4\n",
              " Name: cap-surface, dtype: int64, brown       2284\n",
              " gray        1840\n",
              " red         1500\n",
              " yellow      1072\n",
              " white       1040\n",
              " buff         168\n",
              " pink         144\n",
              " cinnamon      44\n",
              " green         16\n",
              " purple        16\n",
              " Name: cap-color, dtype: int64, no         4748\n",
              " bruises    3376\n",
              " Name: bruises, dtype: int64, none        3528\n",
              " foul        2160\n",
              " fishy        576\n",
              " spicy        576\n",
              " anise        400\n",
              " almond       400\n",
              " pungent      256\n",
              " creosote     192\n",
              " musty         36\n",
              " Name: odor, dtype: int64, free        7914\n",
              " attached     210\n",
              " Name: gill-attachment, dtype: int64, close      6812\n",
              " crowded    1312\n",
              " Name: gill-spacing, dtype: int64, broad     5612\n",
              " narrow    2512\n",
              " Name: gill-size, dtype: int64, buff         1728\n",
              " pink         1492\n",
              " white        1202\n",
              " brown        1048\n",
              " gray          752\n",
              " chocolate     732\n",
              " purple        492\n",
              " black         408\n",
              " red            96\n",
              " yellow         86\n",
              " orange         64\n",
              " green          24\n",
              " Name: gill-color, dtype: int64, tapering     4608\n",
              " enlarging    3516\n",
              " Name: stalk-shape, dtype: int64, bulbous    3776\n",
              " missing    2480\n",
              " equal      1120\n",
              " club        556\n",
              " rooted      192\n",
              " Name: stalk-root, dtype: int64, smooth     5176\n",
              " silky      2372\n",
              " fibrous     552\n",
              " scaly        24\n",
              " Name: stalk-surface-above-ring, dtype: int64, smooth     4936\n",
              " silky      2304\n",
              " fibrous     600\n",
              " scaly       284\n",
              " Name: stalk-surface-below-ring, dtype: int64, white       4464\n",
              " pink        1872\n",
              " gray         576\n",
              " brown        448\n",
              " buff         432\n",
              " orange       192\n",
              " red           96\n",
              " cinnamon      36\n",
              " yellow         8\n",
              " Name: stalk-color-above-ring, dtype: int64, white       4384\n",
              " pink        1872\n",
              " gray         576\n",
              " brown        512\n",
              " buff         432\n",
              " orange       192\n",
              " red           96\n",
              " cinnamon      36\n",
              " yellow        24\n",
              " Name: stalk-color-below-ring, dtype: int64, partial    8124\n",
              " Name: veil-type, dtype: int64, white     7924\n",
              " orange      96\n",
              " brown       96\n",
              " yellow       8\n",
              " Name: veil-color, dtype: int64, one     7488\n",
              " two      600\n",
              " none      36\n",
              " Name: ring-number, dtype: int64, pendant       3968\n",
              " evanescent    2776\n",
              " large         1296\n",
              " flaring         48\n",
              " none            36\n",
              " Name: ring-type, dtype: int64, white       2388\n",
              " brown       1968\n",
              " black       1872\n",
              " choclate    1632\n",
              " green         72\n",
              " orange        48\n",
              " yellow        48\n",
              " buff          48\n",
              " purple        48\n",
              " Name: spore-print-color, dtype: int64, several      4040\n",
              " solitary     1712\n",
              " scattered    1248\n",
              " numerous      400\n",
              " abundant      384\n",
              " clustered     340\n",
              " Name: population, dtype: int64, woods      3148\n",
              " grasses    2148\n",
              " paths      1144\n",
              " leaves      832\n",
              " urban       368\n",
              " meadows     292\n",
              " waste       192\n",
              " Name: habitat, dtype: int64, edible       4208\n",
              " poisonous    3916\n",
              " Name: class, dtype: int64]"
            ]
          },
          "metadata": {},
          "execution_count": 121
        }
      ]
    },
    {
      "cell_type": "code",
      "metadata": {
        "colab": {
          "base_uri": "https://localhost:8080/"
        },
        "id": "HPisMs2k6GL0",
        "outputId": "ba9b1ca9-371c-4110-b1a0-2f5bf1f021a8"
      },
      "source": [
        "data['cap-shape'].value_counts()"
      ],
      "execution_count": null,
      "outputs": [
        {
          "output_type": "execute_result",
          "data": {
            "text/plain": [
              "convex     3656\n",
              "flat       3152\n",
              "knobbed     828\n",
              "bell        452\n",
              "sunken       32\n",
              "conical       4\n",
              "Name: cap-shape, dtype: int64"
            ]
          },
          "metadata": {},
          "execution_count": 122
        }
      ]
    },
    {
      "cell_type": "markdown",
      "source": [
        "# **EXPLORATORY DATA ANALYSIS**"
      ],
      "metadata": {
        "id": "Gxa9t-a6MQj5"
      }
    },
    {
      "cell_type": "code",
      "metadata": {
        "colab": {
          "base_uri": "https://localhost:8080/",
          "height": 594
        },
        "id": "zvxe1AVw7HEU",
        "outputId": "f8e9ebe2-1651-4c18-c7fc-23615e36bbbb"
      },
      "source": [
        "plt.figure(figsize=(15, 8))\n",
        "data.groupby(['cap-shape'])['class'].value_counts().plot(kind='bar')\n",
        "plt.show()"
      ],
      "execution_count": null,
      "outputs": [
        {
          "output_type": "display_data",
          "data": {
            "image/png": "[encoded data removed]",
            "text/plain": [
              "<Figure size 1080x576 with 1 Axes>"
            ]
          },
          "metadata": {
            "needs_background": "light"
          }
        }
      ]
    },
    {
      "cell_type": "code",
      "metadata": {
        "colab": {
          "base_uri": "https://localhost:8080/",
          "height": 591
        },
        "id": "SXMn7eqp9kk3",
        "outputId": "b1fb83a3-90b2-462f-c470-a38db6f1a055"
      },
      "source": [
        "plt.figure(figsize=(15, 8))\n",
        "data.groupby(['cap-surface'])['class'].value_counts().plot(kind='bar')\n",
        "plt.show()"
      ],
      "execution_count": null,
      "outputs": [
        {
          "output_type": "display_data",
          "data": {
            "image/png": "[encoded data removed]",
            "text/plain": [
              "<Figure size 1080x576 with 1 Axes>"
            ]
          },
          "metadata": {
            "needs_background": "light"
          }
        }
      ]
    },
    {
      "cell_type": "code",
      "metadata": {
        "colab": {
          "base_uri": "https://localhost:8080/",
          "height": 600
        },
        "id": "ZhqKlmgLHCwc",
        "outputId": "523faab7-deeb-46fd-f508-59c3c244aea5"
      },
      "source": [
        "plt.figure(figsize=(15, 8))\n",
        "data.groupby(['cap-color'])['class'].value_counts().plot(kind='bar')\n",
        "plt.show()"
      ],
      "execution_count": null,
      "outputs": [
        {
          "output_type": "display_data",
          "data": {
            "image/png": "[encoded data removed]",
            "text/plain": [
              "<Figure size 1080x576 with 1 Axes>"
            ]
          },
          "metadata": {
            "needs_background": "light"
          }
        }
      ]
    },
    {
      "cell_type": "code",
      "metadata": {
        "colab": {
          "base_uri": "https://localhost:8080/",
          "height": 587
        },
        "id": "XIz5vj6RHOnu",
        "outputId": "c3150f21-01f8-4bd3-9971-4ec91fb75d78"
      },
      "source": [
        "plt.figure(figsize=(15, 8))\n",
        "data.groupby(['bruises'])['class'].value_counts().plot(kind='bar')\n",
        "plt.show()"
      ],
      "execution_count": null,
      "outputs": [
        {
          "output_type": "display_data",
          "data": {
            "image/png": "[encoded data removed]",
            "text/plain": [
              "<Figure size 1080x576 with 1 Axes>"
            ]
          },
          "metadata": {
            "needs_background": "light"
          }
        }
      ]
    },
    {
      "cell_type": "code",
      "metadata": {
        "colab": {
          "base_uri": "https://localhost:8080/",
          "height": 594
        },
        "id": "K2LKz8awKK1F",
        "outputId": "a52601c3-a57a-493b-c76e-7e0be2a9a284"
      },
      "source": [
        "plt.figure(figsize=(15, 8))\n",
        "data.groupby(['odor'])['class'].value_counts().plot(kind='bar')\n",
        "plt.show()"
      ],
      "execution_count": null,
      "outputs": [
        {
          "output_type": "display_data",
          "data": {
            "image/png": "[encoded data removed]",
            "text/plain": [
              "<Figure size 1080x576 with 1 Axes>"
            ]
          },
          "metadata": {
            "needs_background": "light"
          }
        }
      ]
    },
    {
      "cell_type": "code",
      "metadata": {
        "colab": {
          "base_uri": "https://localhost:8080/",
          "height": 596
        },
        "id": "w51wYxlMKR_i",
        "outputId": "0d0d8933-9a03-4910-8813-5fac786c9db0"
      },
      "source": [
        "plt.figure(figsize=(15, 8))\n",
        "data.groupby(['gill-attachment'])['class'].value_counts().plot(kind='bar')\n",
        "plt.show()"
      ],
      "execution_count": null,
      "outputs": [
        {
          "output_type": "display_data",
          "data": {
            "image/png": "[encoded data removed]",
            "text/plain": [
              "<Figure size 1080x576 with 1 Axes>"
            ]
          },
          "metadata": {
            "needs_background": "light"
          }
        }
      ]
    },
    {
      "cell_type": "code",
      "metadata": {
        "colab": {
          "base_uri": "https://localhost:8080/",
          "height": 594
        },
        "id": "g8woU4eNKRug",
        "outputId": "7d06de03-711e-4f4d-9c9c-80f4a09c87fe"
      },
      "source": [
        "plt.figure(figsize=(15, 8))\n",
        "data.groupby(['gill-spacing'])['class'].value_counts().plot(kind='bar')\n",
        "plt.show()"
      ],
      "execution_count": null,
      "outputs": [
        {
          "output_type": "display_data",
          "data": {
            "image/png": "[encoded data removed]",
            "text/plain": [
              "<Figure size 1080x576 with 1 Axes>"
            ]
          },
          "metadata": {
            "needs_background": "light"
          }
        }
      ]
    },
    {
      "cell_type": "code",
      "metadata": {
        "colab": {
          "base_uri": "https://localhost:8080/",
          "height": 586
        },
        "id": "k7Uls5ziKRcD",
        "outputId": "fe46a195-9291-4c56-c5f5-4f0291981bc8"
      },
      "source": [
        "plt.figure(figsize=(15, 8))\n",
        "data.groupby(['gill-size'])['class'].value_counts().plot(kind='bar')\n",
        "plt.show()"
      ],
      "execution_count": null,
      "outputs": [
        {
          "output_type": "display_data",
          "data": {
            "image/png": "[encoded data removed]",
            "text/plain": [
              "<Figure size 1080x576 with 1 Axes>"
            ]
          },
          "metadata": {
            "needs_background": "light"
          }
        }
      ]
    },
    {
      "cell_type": "code",
      "metadata": {
        "colab": {
          "base_uri": "https://localhost:8080/",
          "height": 600
        },
        "id": "zbLm5c-OKROt",
        "outputId": "390f2108-0472-4537-d321-152bb840d567"
      },
      "source": [
        "plt.figure(figsize=(15, 8))\n",
        "data.groupby(['gill-color'])['class'].value_counts().plot(kind='bar')\n",
        "plt.show()"
      ],
      "execution_count": null,
      "outputs": [
        {
          "output_type": "display_data",
          "data": {
            "image/png": "[encoded data removed]",
            "text/plain": [
              "<Figure size 1080x576 with 1 Axes>"
            ]
          },
          "metadata": {
            "needs_background": "light"
          }
        }
      ]
    },
    {
      "cell_type": "code",
      "metadata": {
        "colab": {
          "base_uri": "https://localhost:8080/",
          "height": 599
        },
        "id": "IvNQ8eN4KQ-_",
        "outputId": "7000297b-0c48-49cb-b11e-a4a9491b5dca"
      },
      "source": [
        "plt.figure(figsize=(15, 8))\n",
        "data.groupby(['stalk-shape'])['class'].value_counts().plot(kind='bar')\n",
        "plt.show()"
      ],
      "execution_count": null,
      "outputs": [
        {
          "output_type": "display_data",
          "data": {
            "image/png": "[encoded data removed]",
            "text/plain": [
              "<Figure size 1080x576 with 1 Axes>"
            ]
          },
          "metadata": {
            "needs_background": "light"
          }
        }
      ]
    },
    {
      "cell_type": "code",
      "metadata": {
        "colab": {
          "base_uri": "https://localhost:8080/",
          "height": 591
        },
        "id": "_VZCSu8VKQuy",
        "outputId": "472ea8ea-5ad7-4784-9514-a10baca47c80"
      },
      "source": [
        "plt.figure(figsize=(15, 8))\n",
        "data.groupby(['stalk-root'])['class'].value_counts().plot(kind='bar')\n",
        "plt.show()"
      ],
      "execution_count": null,
      "outputs": [
        {
          "output_type": "display_data",
          "data": {
            "image/png": "[encoded data removed]",
            "text/plain": [
              "<Figure size 1080x576 with 1 Axes>"
            ]
          },
          "metadata": {
            "needs_background": "light"
          }
        }
      ]
    },
    {
      "cell_type": "code",
      "metadata": {
        "colab": {
          "base_uri": "https://localhost:8080/",
          "height": 588
        },
        "id": "lzPagtYJKQOC",
        "outputId": "1f1d511e-12de-4cea-eb02-f48b7c0e5674"
      },
      "source": [
        "plt.figure(figsize=(15, 8))\n",
        "data.groupby(['stalk-surface-above-ring'])['class'].value_counts().plot(kind='bar')\n",
        "plt.show()"
      ],
      "execution_count": null,
      "outputs": [
        {
          "output_type": "display_data",
          "data": {
            "image/png": "[encoded data removed]",
            "text/plain": [
              "<Figure size 1080x576 with 1 Axes>"
            ]
          },
          "metadata": {
            "needs_background": "light"
          }
        }
      ]
    },
    {
      "cell_type": "code",
      "metadata": {
        "colab": {
          "base_uri": "https://localhost:8080/",
          "height": 588
        },
        "id": "ZsX3JKobKP5_",
        "outputId": "6cce859a-5fa4-4141-d797-ccaa7e6fa8b2"
      },
      "source": [
        "plt.figure(figsize=(15, 8))\n",
        "data.groupby(['stalk-surface-below-ring'])['class'].value_counts().plot(kind='bar')\n",
        "plt.show()"
      ],
      "execution_count": null,
      "outputs": [
        {
          "output_type": "display_data",
          "data": {
            "image/png": "[encoded data removed]",
            "text/plain": [
              "<Figure size 1080x576 with 1 Axes>"
            ]
          },
          "metadata": {
            "needs_background": "light"
          }
        }
      ]
    },
    {
      "cell_type": "code",
      "metadata": {
        "colab": {
          "base_uri": "https://localhost:8080/",
          "height": 600
        },
        "id": "gXLrFiO9KPtI",
        "outputId": "f8d124fe-3605-40f6-bec5-aed69874260f"
      },
      "source": [
        "plt.figure(figsize=(15, 8))\n",
        "data.groupby(['stalk-color-above-ring'])['class'].value_counts().plot(kind='bar')\n",
        "plt.show()"
      ],
      "execution_count": null,
      "outputs": [
        {
          "output_type": "display_data",
          "data": {
            "image/png": "[encoded data removed]",
            "text/plain": [
              "<Figure size 1080x576 with 1 Axes>"
            ]
          },
          "metadata": {
            "needs_background": "light"
          }
        }
      ]
    },
    {
      "cell_type": "code",
      "metadata": {
        "colab": {
          "base_uri": "https://localhost:8080/",
          "height": 600
        },
        "id": "bi2wykUlKPei",
        "outputId": "1b417d53-1ca7-4197-c5c7-b834c46a2a10"
      },
      "source": [
        "plt.figure(figsize=(15, 8))\n",
        "data.groupby(['stalk-color-below-ring'])['class'].value_counts().plot(kind='bar')\n",
        "plt.show()"
      ],
      "execution_count": null,
      "outputs": [
        {
          "output_type": "display_data",
          "data": {
            "image/png": "[encoded data removed]",
            "text/plain": [
              "<Figure size 1080x576 with 1 Axes>"
            ]
          },
          "metadata": {
            "needs_background": "light"
          }
        }
      ]
    },
    {
      "cell_type": "code",
      "metadata": {
        "colab": {
          "base_uri": "https://localhost:8080/",
          "height": 583
        },
        "id": "l5vxArk2KPED",
        "outputId": "4f4cc8f9-b999-4e79-8717-4292c3e02cba"
      },
      "source": [
        "plt.figure(figsize=(15, 8))\n",
        "data.groupby(['veil-type'])['class'].value_counts().plot(kind='bar')\n",
        "plt.show()"
      ],
      "execution_count": null,
      "outputs": [
        {
          "output_type": "display_data",
          "data": {
            "image/png": "[encoded data removed]",
            "text/plain": [
              "<Figure size 1080x576 with 1 Axes>"
            ]
          },
          "metadata": {
            "needs_background": "light"
          }
        }
      ]
    },
    {
      "cell_type": "code",
      "metadata": {
        "colab": {
          "base_uri": "https://localhost:8080/",
          "height": 583
        },
        "id": "WAci3dYAKMDG",
        "outputId": "e04c6411-ac4c-499a-c236-204a325b2a8f"
      },
      "source": [
        "plt.figure(figsize=(15, 8))\n",
        "data.groupby(['veil-color'])['class'].value_counts().plot(kind='bar')\n",
        "plt.show()"
      ],
      "execution_count": null,
      "outputs": [
        {
          "output_type": "display_data",
          "data": {
            "image/png": "[encoded data removed]",
            "text/plain": [
              "<Figure size 1080x576 with 1 Axes>"
            ]
          },
          "metadata": {
            "needs_background": "light"
          }
        }
      ]
    },
    {
      "cell_type": "code",
      "metadata": {
        "colab": {
          "base_uri": "https://localhost:8080/",
          "height": 576
        },
        "id": "KC0KvkUvKLip",
        "outputId": "22ec95e2-eda0-4f87-eb68-34fde0b0016a"
      },
      "source": [
        "plt.figure(figsize=(15, 8))\n",
        "data.groupby(['ring-number'])['class'].value_counts().plot(kind='bar')\n",
        "plt.show()"
      ],
      "execution_count": null,
      "outputs": [
        {
          "output_type": "display_data",
          "data": {
            "image/png": "[encoded data removed]",
            "text/plain": [
              "<Figure size 1080x576 with 1 Axes>"
            ]
          },
          "metadata": {
            "needs_background": "light"
          }
        }
      ]
    },
    {
      "cell_type": "code",
      "metadata": {
        "colab": {
          "base_uri": "https://localhost:8080/",
          "height": 609
        },
        "id": "U-xcfcQULG6q",
        "outputId": "7314f9cb-53de-401d-be79-fc3fb050a4e8"
      },
      "source": [
        "plt.figure(figsize=(15, 8))\n",
        "data.groupby(['ring-type'])['class'].value_counts().plot(kind='bar')\n",
        "plt.show()"
      ],
      "execution_count": null,
      "outputs": [
        {
          "output_type": "display_data",
          "data": {
            "image/png": "[encoded data removed]",
            "text/plain": [
              "<Figure size 1080x576 with 1 Axes>"
            ]
          },
          "metadata": {
            "needs_background": "light"
          }
        }
      ]
    },
    {
      "cell_type": "code",
      "metadata": {
        "colab": {
          "base_uri": "https://localhost:8080/",
          "height": 594
        },
        "id": "zYV9OfK0LFcp",
        "outputId": "abb5021a-bb69-470b-8c95-5372eca6624e"
      },
      "source": [
        "plt.figure(figsize=(15, 8))\n",
        "data.groupby(['spore-print-color'])['class'].value_counts().plot(kind='bar')\n",
        "plt.show()"
      ],
      "execution_count": null,
      "outputs": [
        {
          "output_type": "display_data",
          "data": {
            "image/png": "[encoded data removed]",
            "text/plain": [
              "<Figure size 1080x576 with 1 Axes>"
            ]
          },
          "metadata": {
            "needs_background": "light"
          }
        }
      ]
    },
    {
      "cell_type": "code",
      "metadata": {
        "colab": {
          "base_uri": "https://localhost:8080/",
          "height": 598
        },
        "id": "HXlZ3i6ILFCx",
        "outputId": "50ff850e-bb76-4970-c4b2-cd1e3d361213"
      },
      "source": [
        "plt.figure(figsize=(15, 8))\n",
        "data.groupby(['population'])['class'].value_counts().plot(kind='bar')\n",
        "plt.show()"
      ],
      "execution_count": null,
      "outputs": [
        {
          "output_type": "display_data",
          "data": {
            "image/png": "[encoded data removed]",
            "text/plain": [
              "<Figure size 1080x576 with 1 Axes>"
            ]
          },
          "metadata": {
            "needs_background": "light"
          }
        }
      ]
    },
    {
      "cell_type": "code",
      "metadata": {
        "colab": {
          "base_uri": "https://localhost:8080/",
          "height": 599
        },
        "id": "wYGCcIfNLR8c",
        "outputId": "8438a629-bc38-4cfb-ba0a-b54d1241ac93"
      },
      "source": [
        "plt.figure(figsize=(15, 8))\n",
        "data.groupby(['habitat'])['class'].value_counts().plot(kind='bar')\n",
        "plt.show()"
      ],
      "execution_count": null,
      "outputs": [
        {
          "output_type": "display_data",
          "data": {
            "image/png": "[encoded data removed]",
            "text/plain": [
              "<Figure size 1080x576 with 1 Axes>"
            ]
          },
          "metadata": {
            "needs_background": "light"
          }
        }
      ]
    },
    {
      "cell_type": "markdown",
      "source": [
        "# **MODEL BUILDING**"
      ],
      "metadata": {
        "id": "Td_JJrhnMidy"
      }
    },
    {
      "cell_type": "markdown",
      "source": [
        "Splitting the Target And Feature in the Data Set"
      ],
      "metadata": {
        "id": "Xyu2S5u4MpBF"
      }
    },
    {
      "cell_type": "code",
      "metadata": {
        "id": "IwuF1fQFOkDt"
      },
      "source": [
        "y=data['class']\n",
        "x=data.drop(['class'],axis=1)\n"
      ],
      "execution_count": null,
      "outputs": []
    },
    {
      "cell_type": "markdown",
      "source": [
        "Importing The Classification Algorithm Libraries, metric Libraries and Label Encoder for encode the Label Data into numeric"
      ],
      "metadata": {
        "id": "wN6mzF6xM0Sc"
      }
    },
    {
      "cell_type": "code",
      "metadata": {
        "id": "wCabZBvELWGF"
      },
      "source": [
        "from sklearn.neighbors import KNeighborsClassifier\n",
        "from sklearn.tree import DecisionTreeClassifier\n",
        "from sklearn.ensemble import RandomForestClassifier\n",
        "from sklearn.naive_bayes import GaussianNB\n",
        "from sklearn.model_selection import train_test_split\n",
        "from sklearn.metrics import mean_absolute_error,confusion_matrix,accuracy_score\n",
        "from sklearn.preprocessing import LabelEncoder\n"
      ],
      "execution_count": null,
      "outputs": []
    },
    {
      "cell_type": "markdown",
      "source": [
        "Label Encoder use to convert into numeric form but it shows the ranking order so it shoud not use if there is no ranking of values in datas"
      ],
      "metadata": {
        "id": "oqT2Sp1nNnww"
      }
    },
    {
      "cell_type": "code",
      "metadata": {
        "id": "G5oP_7mVRPkW"
      },
      "source": [
        "Encoder_x=LabelEncoder()\n",
        "for col in x.columns:\n",
        "    x[col]=Encoder_x.fit_transform(x[col])\n",
        "Encoder_y=LabelEncoder()\n"
      ],
      "execution_count": null,
      "outputs": []
    },
    {
      "cell_type": "code",
      "metadata": {
        "colab": {
          "base_uri": "https://localhost:8080/",
          "height": 277
        },
        "id": "5Vk-xXq_VYMv",
        "outputId": "5b628782-fa97-4280-ed78-bceac4c737fa"
      },
      "source": [
        "x.head()"
      ],
      "execution_count": null,
      "outputs": [
        {
          "output_type": "execute_result",
          "data": {
            "text/html": [
              "<div>\n",
              "<style scoped>\n",
              "    .dataframe tbody tr th:only-of-type {\n",
              "        vertical-align: middle;\n",
              "    }\n",
              "\n",
              "    .dataframe tbody tr th {\n",
              "        vertical-align: top;\n",
              "    }\n",
              "\n",
              "    .dataframe thead th {\n",
              "        text-align: right;\n",
              "    }\n",
              "</style>\n",
              "<table border=\"1\" class=\"dataframe\">\n",
              "  <thead>\n",
              "    <tr style=\"text-align: right;\">\n",
              "      <th></th>\n",
              "      <th>cap-shape</th>\n",
              "      <th>cap-surface</th>\n",
              "      <th>cap-color</th>\n",
              "      <th>bruises</th>\n",
              "      <th>odor</th>\n",
              "      <th>gill-attachment</th>\n",
              "      <th>gill-spacing</th>\n",
              "      <th>gill-size</th>\n",
              "      <th>gill-color</th>\n",
              "      <th>stalk-shape</th>\n",
              "      <th>stalk-root</th>\n",
              "      <th>stalk-surface-above-ring</th>\n",
              "      <th>stalk-surface-below-ring</th>\n",
              "      <th>stalk-color-above-ring</th>\n",
              "      <th>stalk-color-below-ring</th>\n",
              "      <th>veil-type</th>\n",
              "      <th>veil-color</th>\n",
              "      <th>ring-number</th>\n",
              "      <th>ring-type</th>\n",
              "      <th>spore-print-color</th>\n",
              "      <th>population</th>\n",
              "      <th>habitat</th>\n",
              "    </tr>\n",
              "  </thead>\n",
              "  <tbody>\n",
              "    <tr>\n",
              "      <th>0</th>\n",
              "      <td>2</td>\n",
              "      <td>3</td>\n",
              "      <td>0</td>\n",
              "      <td>0</td>\n",
              "      <td>7</td>\n",
              "      <td>1</td>\n",
              "      <td>0</td>\n",
              "      <td>1</td>\n",
              "      <td>0</td>\n",
              "      <td>0</td>\n",
              "      <td>2</td>\n",
              "      <td>3</td>\n",
              "      <td>3</td>\n",
              "      <td>7</td>\n",
              "      <td>7</td>\n",
              "      <td>0</td>\n",
              "      <td>2</td>\n",
              "      <td>1</td>\n",
              "      <td>4</td>\n",
              "      <td>0</td>\n",
              "      <td>3</td>\n",
              "      <td>4</td>\n",
              "    </tr>\n",
              "    <tr>\n",
              "      <th>1</th>\n",
              "      <td>2</td>\n",
              "      <td>3</td>\n",
              "      <td>9</td>\n",
              "      <td>0</td>\n",
              "      <td>0</td>\n",
              "      <td>1</td>\n",
              "      <td>0</td>\n",
              "      <td>0</td>\n",
              "      <td>0</td>\n",
              "      <td>0</td>\n",
              "      <td>1</td>\n",
              "      <td>3</td>\n",
              "      <td>3</td>\n",
              "      <td>7</td>\n",
              "      <td>7</td>\n",
              "      <td>0</td>\n",
              "      <td>2</td>\n",
              "      <td>1</td>\n",
              "      <td>4</td>\n",
              "      <td>1</td>\n",
              "      <td>2</td>\n",
              "      <td>0</td>\n",
              "    </tr>\n",
              "    <tr>\n",
              "      <th>2</th>\n",
              "      <td>0</td>\n",
              "      <td>3</td>\n",
              "      <td>8</td>\n",
              "      <td>0</td>\n",
              "      <td>1</td>\n",
              "      <td>1</td>\n",
              "      <td>0</td>\n",
              "      <td>0</td>\n",
              "      <td>1</td>\n",
              "      <td>0</td>\n",
              "      <td>1</td>\n",
              "      <td>3</td>\n",
              "      <td>3</td>\n",
              "      <td>7</td>\n",
              "      <td>7</td>\n",
              "      <td>0</td>\n",
              "      <td>2</td>\n",
              "      <td>1</td>\n",
              "      <td>4</td>\n",
              "      <td>1</td>\n",
              "      <td>2</td>\n",
              "      <td>2</td>\n",
              "    </tr>\n",
              "    <tr>\n",
              "      <th>3</th>\n",
              "      <td>2</td>\n",
              "      <td>2</td>\n",
              "      <td>8</td>\n",
              "      <td>0</td>\n",
              "      <td>7</td>\n",
              "      <td>1</td>\n",
              "      <td>0</td>\n",
              "      <td>1</td>\n",
              "      <td>1</td>\n",
              "      <td>0</td>\n",
              "      <td>2</td>\n",
              "      <td>3</td>\n",
              "      <td>3</td>\n",
              "      <td>7</td>\n",
              "      <td>7</td>\n",
              "      <td>0</td>\n",
              "      <td>2</td>\n",
              "      <td>1</td>\n",
              "      <td>4</td>\n",
              "      <td>0</td>\n",
              "      <td>3</td>\n",
              "      <td>4</td>\n",
              "    </tr>\n",
              "    <tr>\n",
              "      <th>4</th>\n",
              "      <td>2</td>\n",
              "      <td>3</td>\n",
              "      <td>3</td>\n",
              "      <td>1</td>\n",
              "      <td>6</td>\n",
              "      <td>1</td>\n",
              "      <td>1</td>\n",
              "      <td>0</td>\n",
              "      <td>0</td>\n",
              "      <td>1</td>\n",
              "      <td>2</td>\n",
              "      <td>3</td>\n",
              "      <td>3</td>\n",
              "      <td>7</td>\n",
              "      <td>7</td>\n",
              "      <td>0</td>\n",
              "      <td>2</td>\n",
              "      <td>1</td>\n",
              "      <td>0</td>\n",
              "      <td>1</td>\n",
              "      <td>0</td>\n",
              "      <td>0</td>\n",
              "    </tr>\n",
              "  </tbody>\n",
              "</table>\n",
              "</div>"
            ],
            "text/plain": [
              "   cap-shape  cap-surface  cap-color  ...  spore-print-color  population  habitat\n",
              "0          2            3          0  ...                  0           3        4\n",
              "1          2            3          9  ...                  1           2        0\n",
              "2          0            3          8  ...                  1           2        2\n",
              "3          2            2          8  ...                  0           3        4\n",
              "4          2            3          3  ...                  1           0        0\n",
              "\n",
              "[5 rows x 22 columns]"
            ]
          },
          "metadata": {},
          "execution_count": 148
        }
      ]
    },
    {
      "cell_type": "code",
      "metadata": {
        "colab": {
          "base_uri": "https://localhost:8080/"
        },
        "id": "gh-O3RVaW1c8",
        "outputId": "aa944c0e-8076-4e45-a37a-a59b50e98753"
      },
      "source": [
        "y"
      ],
      "execution_count": null,
      "outputs": [
        {
          "output_type": "execute_result",
          "data": {
            "text/plain": [
              "0       poisonous\n",
              "1          edible\n",
              "2          edible\n",
              "3       poisonous\n",
              "4          edible\n",
              "          ...    \n",
              "8119       edible\n",
              "8120       edible\n",
              "8121       edible\n",
              "8122    poisonous\n",
              "8123       edible\n",
              "Name: class, Length: 8124, dtype: object"
            ]
          },
          "metadata": {},
          "execution_count": 149
        }
      ]
    },
    {
      "cell_type": "markdown",
      "source": [
        "Splitting the Training And Testing Data To validate the data here i have use 33% test size and 77% train size and enable the random state to avoid random selection on eachtime of execution"
      ],
      "metadata": {
        "id": "cQbPlayjOQa_"
      }
    },
    {
      "cell_type": "code",
      "metadata": {
        "id": "xMpBbfIuQFMh"
      },
      "source": [
        "x_train,x_test,y_train,y_test=train_test_split(x,y, test_size=0.33, random_state=1)"
      ],
      "execution_count": null,
      "outputs": []
    },
    {
      "cell_type": "code",
      "metadata": {
        "colab": {
          "base_uri": "https://localhost:8080/",
          "height": 277
        },
        "id": "p3pOIQMPW68b",
        "outputId": "d63c30a6-396e-436c-d7fc-5c56f2fd4942"
      },
      "source": [
        "x_train.head()"
      ],
      "execution_count": null,
      "outputs": [
        {
          "output_type": "execute_result",
          "data": {
            "text/html": [
              "<div>\n",
              "<style scoped>\n",
              "    .dataframe tbody tr th:only-of-type {\n",
              "        vertical-align: middle;\n",
              "    }\n",
              "\n",
              "    .dataframe tbody tr th {\n",
              "        vertical-align: top;\n",
              "    }\n",
              "\n",
              "    .dataframe thead th {\n",
              "        text-align: right;\n",
              "    }\n",
              "</style>\n",
              "<table border=\"1\" class=\"dataframe\">\n",
              "  <thead>\n",
              "    <tr style=\"text-align: right;\">\n",
              "      <th></th>\n",
              "      <th>cap-shape</th>\n",
              "      <th>cap-surface</th>\n",
              "      <th>cap-color</th>\n",
              "      <th>bruises</th>\n",
              "      <th>odor</th>\n",
              "      <th>gill-attachment</th>\n",
              "      <th>gill-spacing</th>\n",
              "      <th>gill-size</th>\n",
              "      <th>gill-color</th>\n",
              "      <th>stalk-shape</th>\n",
              "      <th>stalk-root</th>\n",
              "      <th>stalk-surface-above-ring</th>\n",
              "      <th>stalk-surface-below-ring</th>\n",
              "      <th>stalk-color-above-ring</th>\n",
              "      <th>stalk-color-below-ring</th>\n",
              "      <th>veil-type</th>\n",
              "      <th>veil-color</th>\n",
              "      <th>ring-number</th>\n",
              "      <th>ring-type</th>\n",
              "      <th>spore-print-color</th>\n",
              "      <th>population</th>\n",
              "      <th>habitat</th>\n",
              "    </tr>\n",
              "  </thead>\n",
              "  <tbody>\n",
              "    <tr>\n",
              "      <th>6992</th>\n",
              "      <td>4</td>\n",
              "      <td>2</td>\n",
              "      <td>7</td>\n",
              "      <td>1</td>\n",
              "      <td>3</td>\n",
              "      <td>1</td>\n",
              "      <td>0</td>\n",
              "      <td>1</td>\n",
              "      <td>2</td>\n",
              "      <td>1</td>\n",
              "      <td>3</td>\n",
              "      <td>2</td>\n",
              "      <td>3</td>\n",
              "      <td>7</td>\n",
              "      <td>5</td>\n",
              "      <td>0</td>\n",
              "      <td>2</td>\n",
              "      <td>1</td>\n",
              "      <td>0</td>\n",
              "      <td>7</td>\n",
              "      <td>4</td>\n",
              "      <td>1</td>\n",
              "    </tr>\n",
              "    <tr>\n",
              "      <th>616</th>\n",
              "      <td>3</td>\n",
              "      <td>0</td>\n",
              "      <td>3</td>\n",
              "      <td>1</td>\n",
              "      <td>6</td>\n",
              "      <td>1</td>\n",
              "      <td>1</td>\n",
              "      <td>0</td>\n",
              "      <td>7</td>\n",
              "      <td>1</td>\n",
              "      <td>2</td>\n",
              "      <td>3</td>\n",
              "      <td>3</td>\n",
              "      <td>7</td>\n",
              "      <td>7</td>\n",
              "      <td>0</td>\n",
              "      <td>2</td>\n",
              "      <td>1</td>\n",
              "      <td>0</td>\n",
              "      <td>0</td>\n",
              "      <td>0</td>\n",
              "      <td>0</td>\n",
              "    </tr>\n",
              "    <tr>\n",
              "      <th>2623</th>\n",
              "      <td>3</td>\n",
              "      <td>0</td>\n",
              "      <td>0</td>\n",
              "      <td>0</td>\n",
              "      <td>6</td>\n",
              "      <td>1</td>\n",
              "      <td>0</td>\n",
              "      <td>0</td>\n",
              "      <td>8</td>\n",
              "      <td>1</td>\n",
              "      <td>0</td>\n",
              "      <td>3</td>\n",
              "      <td>3</td>\n",
              "      <td>5</td>\n",
              "      <td>3</td>\n",
              "      <td>0</td>\n",
              "      <td>2</td>\n",
              "      <td>1</td>\n",
              "      <td>4</td>\n",
              "      <td>0</td>\n",
              "      <td>5</td>\n",
              "      <td>6</td>\n",
              "    </tr>\n",
              "    <tr>\n",
              "      <th>2772</th>\n",
              "      <td>2</td>\n",
              "      <td>2</td>\n",
              "      <td>7</td>\n",
              "      <td>0</td>\n",
              "      <td>6</td>\n",
              "      <td>1</td>\n",
              "      <td>0</td>\n",
              "      <td>0</td>\n",
              "      <td>1</td>\n",
              "      <td>1</td>\n",
              "      <td>0</td>\n",
              "      <td>3</td>\n",
              "      <td>3</td>\n",
              "      <td>3</td>\n",
              "      <td>5</td>\n",
              "      <td>0</td>\n",
              "      <td>2</td>\n",
              "      <td>1</td>\n",
              "      <td>4</td>\n",
              "      <td>1</td>\n",
              "      <td>4</td>\n",
              "      <td>6</td>\n",
              "    </tr>\n",
              "    <tr>\n",
              "      <th>976</th>\n",
              "      <td>0</td>\n",
              "      <td>2</td>\n",
              "      <td>8</td>\n",
              "      <td>0</td>\n",
              "      <td>1</td>\n",
              "      <td>1</td>\n",
              "      <td>0</td>\n",
              "      <td>0</td>\n",
              "      <td>1</td>\n",
              "      <td>0</td>\n",
              "      <td>1</td>\n",
              "      <td>3</td>\n",
              "      <td>3</td>\n",
              "      <td>7</td>\n",
              "      <td>7</td>\n",
              "      <td>0</td>\n",
              "      <td>2</td>\n",
              "      <td>1</td>\n",
              "      <td>4</td>\n",
              "      <td>0</td>\n",
              "      <td>2</td>\n",
              "      <td>0</td>\n",
              "    </tr>\n",
              "  </tbody>\n",
              "</table>\n",
              "</div>"
            ],
            "text/plain": [
              "      cap-shape  cap-surface  cap-color  ...  spore-print-color  population  habitat\n",
              "6992          4            2          7  ...                  7           4        1\n",
              "616           3            0          3  ...                  0           0        0\n",
              "2623          3            0          0  ...                  0           5        6\n",
              "2772          2            2          7  ...                  1           4        6\n",
              "976           0            2          8  ...                  0           2        0\n",
              "\n",
              "[5 rows x 22 columns]"
            ]
          },
          "metadata": {},
          "execution_count": 151
        }
      ]
    },
    {
      "cell_type": "code",
      "metadata": {
        "colab": {
          "base_uri": "https://localhost:8080/",
          "height": 277
        },
        "id": "sKcbGE1JXP1y",
        "outputId": "58d21da0-5f04-4e07-fda9-9e3a828574bf"
      },
      "source": [
        "x_test.head()"
      ],
      "execution_count": null,
      "outputs": [
        {
          "output_type": "execute_result",
          "data": {
            "text/html": [
              "<div>\n",
              "<style scoped>\n",
              "    .dataframe tbody tr th:only-of-type {\n",
              "        vertical-align: middle;\n",
              "    }\n",
              "\n",
              "    .dataframe tbody tr th {\n",
              "        vertical-align: top;\n",
              "    }\n",
              "\n",
              "    .dataframe thead th {\n",
              "        text-align: right;\n",
              "    }\n",
              "</style>\n",
              "<table border=\"1\" class=\"dataframe\">\n",
              "  <thead>\n",
              "    <tr style=\"text-align: right;\">\n",
              "      <th></th>\n",
              "      <th>cap-shape</th>\n",
              "      <th>cap-surface</th>\n",
              "      <th>cap-color</th>\n",
              "      <th>bruises</th>\n",
              "      <th>odor</th>\n",
              "      <th>gill-attachment</th>\n",
              "      <th>gill-spacing</th>\n",
              "      <th>gill-size</th>\n",
              "      <th>gill-color</th>\n",
              "      <th>stalk-shape</th>\n",
              "      <th>stalk-root</th>\n",
              "      <th>stalk-surface-above-ring</th>\n",
              "      <th>stalk-surface-below-ring</th>\n",
              "      <th>stalk-color-above-ring</th>\n",
              "      <th>stalk-color-below-ring</th>\n",
              "      <th>veil-type</th>\n",
              "      <th>veil-color</th>\n",
              "      <th>ring-number</th>\n",
              "      <th>ring-type</th>\n",
              "      <th>spore-print-color</th>\n",
              "      <th>population</th>\n",
              "      <th>habitat</th>\n",
              "    </tr>\n",
              "  </thead>\n",
              "  <tbody>\n",
              "    <tr>\n",
              "      <th>1392</th>\n",
              "      <td>3</td>\n",
              "      <td>3</td>\n",
              "      <td>8</td>\n",
              "      <td>1</td>\n",
              "      <td>6</td>\n",
              "      <td>1</td>\n",
              "      <td>1</td>\n",
              "      <td>0</td>\n",
              "      <td>3</td>\n",
              "      <td>1</td>\n",
              "      <td>2</td>\n",
              "      <td>0</td>\n",
              "      <td>0</td>\n",
              "      <td>7</td>\n",
              "      <td>7</td>\n",
              "      <td>0</td>\n",
              "      <td>2</td>\n",
              "      <td>1</td>\n",
              "      <td>0</td>\n",
              "      <td>0</td>\n",
              "      <td>0</td>\n",
              "      <td>0</td>\n",
              "    </tr>\n",
              "    <tr>\n",
              "      <th>4051</th>\n",
              "      <td>2</td>\n",
              "      <td>0</td>\n",
              "      <td>5</td>\n",
              "      <td>1</td>\n",
              "      <td>2</td>\n",
              "      <td>1</td>\n",
              "      <td>1</td>\n",
              "      <td>1</td>\n",
              "      <td>8</td>\n",
              "      <td>0</td>\n",
              "      <td>0</td>\n",
              "      <td>3</td>\n",
              "      <td>3</td>\n",
              "      <td>7</td>\n",
              "      <td>7</td>\n",
              "      <td>0</td>\n",
              "      <td>2</td>\n",
              "      <td>1</td>\n",
              "      <td>4</td>\n",
              "      <td>1</td>\n",
              "      <td>4</td>\n",
              "      <td>6</td>\n",
              "    </tr>\n",
              "    <tr>\n",
              "      <th>3725</th>\n",
              "      <td>2</td>\n",
              "      <td>3</td>\n",
              "      <td>8</td>\n",
              "      <td>1</td>\n",
              "      <td>2</td>\n",
              "      <td>1</td>\n",
              "      <td>1</td>\n",
              "      <td>1</td>\n",
              "      <td>4</td>\n",
              "      <td>0</td>\n",
              "      <td>0</td>\n",
              "      <td>3</td>\n",
              "      <td>3</td>\n",
              "      <td>7</td>\n",
              "      <td>7</td>\n",
              "      <td>0</td>\n",
              "      <td>2</td>\n",
              "      <td>1</td>\n",
              "      <td>4</td>\n",
              "      <td>1</td>\n",
              "      <td>4</td>\n",
              "      <td>6</td>\n",
              "    </tr>\n",
              "    <tr>\n",
              "      <th>7177</th>\n",
              "      <td>4</td>\n",
              "      <td>3</td>\n",
              "      <td>0</td>\n",
              "      <td>1</td>\n",
              "      <td>4</td>\n",
              "      <td>1</td>\n",
              "      <td>0</td>\n",
              "      <td>1</td>\n",
              "      <td>2</td>\n",
              "      <td>1</td>\n",
              "      <td>3</td>\n",
              "      <td>2</td>\n",
              "      <td>2</td>\n",
              "      <td>5</td>\n",
              "      <td>7</td>\n",
              "      <td>0</td>\n",
              "      <td>2</td>\n",
              "      <td>1</td>\n",
              "      <td>0</td>\n",
              "      <td>7</td>\n",
              "      <td>4</td>\n",
              "      <td>1</td>\n",
              "    </tr>\n",
              "    <tr>\n",
              "      <th>103</th>\n",
              "      <td>2</td>\n",
              "      <td>2</td>\n",
              "      <td>9</td>\n",
              "      <td>0</td>\n",
              "      <td>0</td>\n",
              "      <td>1</td>\n",
              "      <td>0</td>\n",
              "      <td>0</td>\n",
              "      <td>1</td>\n",
              "      <td>0</td>\n",
              "      <td>4</td>\n",
              "      <td>3</td>\n",
              "      <td>1</td>\n",
              "      <td>7</td>\n",
              "      <td>7</td>\n",
              "      <td>0</td>\n",
              "      <td>2</td>\n",
              "      <td>1</td>\n",
              "      <td>4</td>\n",
              "      <td>0</td>\n",
              "      <td>5</td>\n",
              "      <td>3</td>\n",
              "    </tr>\n",
              "  </tbody>\n",
              "</table>\n",
              "</div>"
            ],
            "text/plain": [
              "      cap-shape  cap-surface  cap-color  ...  spore-print-color  population  habitat\n",
              "1392          3            3          8  ...                  0           0        0\n",
              "4051          2            0          5  ...                  1           4        6\n",
              "3725          2            3          8  ...                  1           4        6\n",
              "7177          4            3          0  ...                  7           4        1\n",
              "103           2            2          9  ...                  0           5        3\n",
              "\n",
              "[5 rows x 22 columns]"
            ]
          },
          "metadata": {},
          "execution_count": 152
        }
      ]
    },
    {
      "cell_type": "markdown",
      "source": [
        "**Using KNN algorithm**"
      ],
      "metadata": {
        "id": "oLV9LoKJdpwg"
      }
    },
    {
      "cell_type": "code",
      "metadata": {
        "colab": {
          "base_uri": "https://localhost:8080/"
        },
        "id": "vx7T85ZhXVr7",
        "outputId": "6e151993-c4d4-40d0-b845-95db717dca72"
      },
      "source": [
        "knn=KNeighborsClassifier( n_neighbors=3)\n",
        "knn.fit(x_train,y_train)\n",
        "knn_predict=knn.predict(x_test)\n",
        "accuracy_score(knn_predict,y_test)"
      ],
      "execution_count": null,
      "outputs": [
        {
          "output_type": "execute_result",
          "data": {
            "text/plain": [
              "0.999627004848937"
            ]
          },
          "metadata": {},
          "execution_count": 153
        }
      ]
    },
    {
      "cell_type": "markdown",
      "source": [
        "**Using DecisionTree Algorithm**"
      ],
      "metadata": {
        "id": "MzHho-RTdvWn"
      }
    },
    {
      "cell_type": "code",
      "metadata": {
        "colab": {
          "base_uri": "https://localhost:8080/"
        },
        "id": "FwtfJPk0XwXy",
        "outputId": "e88a9c52-2b76-411a-ae36-dd555625f8e3"
      },
      "source": [
        "dst=DecisionTreeClassifier()\n",
        "dst.fit(x_train,y_train)\n",
        "dst_predict=dst.predict(x_test)\n",
        "accuracy_score(dst_predict,y_test)"
      ],
      "execution_count": null,
      "outputs": [
        {
          "output_type": "execute_result",
          "data": {
            "text/plain": [
              "1.0"
            ]
          },
          "metadata": {},
          "execution_count": 154
        }
      ]
    },
    {
      "cell_type": "markdown",
      "source": [
        "**Using RandomForest Ensemble Algorithm**"
      ],
      "metadata": {
        "id": "ksO6wW76eHvF"
      }
    },
    {
      "cell_type": "code",
      "metadata": {
        "colab": {
          "base_uri": "https://localhost:8080/"
        },
        "id": "D0UWJwRKX-SK",
        "outputId": "6dd11e34-d958-4a2e-b648-3041ae44ad18"
      },
      "source": [
        "RF=RandomForestClassifier()\n",
        "RF.fit(x_train,y_train)\n",
        "RF_predict=RF.predict(x_test)\n",
        "accuracy_score(RF_predict,y_test)"
      ],
      "execution_count": null,
      "outputs": [
        {
          "output_type": "execute_result",
          "data": {
            "text/plain": [
              "1.0"
            ]
          },
          "metadata": {},
          "execution_count": 155
        }
      ]
    },
    {
      "cell_type": "markdown",
      "source": [
        "**Using GaussianNaive Bayes Algorithm**"
      ],
      "metadata": {
        "id": "tg6ABTnsd1kx"
      }
    },
    {
      "cell_type": "code",
      "metadata": {
        "colab": {
          "base_uri": "https://localhost:8080/"
        },
        "id": "G3sPV79WYUYp",
        "outputId": "33a2602d-dbdf-436b-fdfd-50d2f33a9e0b"
      },
      "source": [
        "NB=GaussianNB()\n",
        "NB.fit(x_train,y_train)\n",
        "NB_predict=NB.predict(x_test)\n",
        "accuracy_score(NB_predict,y_test)"
      ],
      "execution_count": null,
      "outputs": [
        {
          "output_type": "execute_result",
          "data": {
            "text/plain": [
              "0.8769116001491981"
            ]
          },
          "metadata": {},
          "execution_count": 156
        }
      ]
    },
    {
      "cell_type": "markdown",
      "source": [
        "## **Using OneHotEncoding Method**"
      ],
      "metadata": {
        "id": "q9p1ZVN3eZNE"
      }
    },
    {
      "cell_type": "code",
      "metadata": {
        "id": "DwMjZ6JrZ-51"
      },
      "source": [
        "Y=data['class']\n",
        "X1=data.drop(['class'],axis=1)"
      ],
      "execution_count": null,
      "outputs": []
    },
    {
      "cell_type": "markdown",
      "source": [
        "Importing OneHotEncoder Library"
      ],
      "metadata": {
        "id": "YpPEF-JoenvG"
      }
    },
    {
      "cell_type": "code",
      "metadata": {
        "id": "I23QzGEOZFYX"
      },
      "source": [
        "from sklearn.preprocessing import  OneHotEncoder\n",
        "encode=OneHotEncoder()\n",
        "X=encode.fit_transform(X1)"
      ],
      "execution_count": null,
      "outputs": []
    },
    {
      "cell_type": "markdown",
      "source": [
        "Spliting training and testing Data"
      ],
      "metadata": {
        "id": "X8xIBSA7etSf"
      }
    },
    {
      "cell_type": "code",
      "metadata": {
        "id": "EdDb9zgjaaBK"
      },
      "source": [
        "X_train,X_test,Y_train,Y_test=train_test_split(X,y, test_size=0.33,random_state=1)"
      ],
      "execution_count": null,
      "outputs": []
    },
    {
      "cell_type": "code",
      "metadata": {
        "colab": {
          "base_uri": "https://localhost:8080/"
        },
        "id": "Hry4D2hLabNq",
        "outputId": "3b070767-407f-434e-b88f-8910c950228c"
      },
      "source": [
        "X_train"
      ],
      "execution_count": null,
      "outputs": [
        {
          "output_type": "execute_result",
          "data": {
            "text/plain": [
              "<5443x117 sparse matrix of type '<class 'numpy.float64'>'\n",
              "\twith 119746 stored elements in Compressed Sparse Row format>"
            ]
          },
          "metadata": {},
          "execution_count": 160
        }
      ]
    },
    {
      "cell_type": "markdown",
      "source": [
        "**Using KNN Algorithm**"
      ],
      "metadata": {
        "id": "ccTGB3wgezAt"
      }
    },
    {
      "cell_type": "code",
      "metadata": {
        "colab": {
          "base_uri": "https://localhost:8080/"
        },
        "id": "YwW1ax5JbN5j",
        "outputId": "c72f7d0f-f49a-4541-adc4-7c9052bae214"
      },
      "source": [
        "Knn=KNeighborsClassifier( n_neighbors=3)\n",
        "Knn.fit(X_train,Y_train)\n",
        "Knn_predict=Knn.predict(X_test)\n",
        "accuracy_score(Knn_predict,Y_test)"
      ],
      "execution_count": null,
      "outputs": [
        {
          "output_type": "execute_result",
          "data": {
            "text/plain": [
              "1.0"
            ]
          },
          "metadata": {},
          "execution_count": 161
        }
      ]
    },
    {
      "cell_type": "markdown",
      "source": [
        "**Using DesisionTree Algorithm**"
      ],
      "metadata": {
        "id": "YWPgcSMVe5lr"
      }
    },
    {
      "cell_type": "code",
      "metadata": {
        "colab": {
          "base_uri": "https://localhost:8080/"
        },
        "id": "1023EVetcmg4",
        "outputId": "36dcbb08-631c-4b74-ef76-ab9ba4997347"
      },
      "source": [
        "Dst=DecisionTreeClassifier()\n",
        "Dst.fit(X_train,Y_train)\n",
        "Dst_predict=Dst.predict(X_test)\n",
        "accuracy_score(Dst_predict,Y_test)"
      ],
      "execution_count": null,
      "outputs": [
        {
          "output_type": "execute_result",
          "data": {
            "text/plain": [
              "1.0"
            ]
          },
          "metadata": {},
          "execution_count": 162
        }
      ]
    },
    {
      "cell_type": "markdown",
      "source": [
        "**Using RandomForest Algorithm**"
      ],
      "metadata": {
        "id": "UPTv4v-Pe-qH"
      }
    },
    {
      "cell_type": "code",
      "metadata": {
        "colab": {
          "base_uri": "https://localhost:8080/"
        },
        "id": "PsxIMUArc0AQ",
        "outputId": "226dc713-8619-479a-921c-56d3fc0530e1"
      },
      "source": [
        "RRF=RandomForestClassifier()\n",
        "RRF.fit(X_train,Y_train)\n",
        "RRF_predict=RRF.predict(X_test)\n",
        "accuracy_score(RRF_predict,Y_test)"
      ],
      "execution_count": null,
      "outputs": [
        {
          "output_type": "execute_result",
          "data": {
            "text/plain": [
              "1.0"
            ]
          },
          "metadata": {},
          "execution_count": 163
        }
      ]
    },
    {
      "cell_type": "markdown",
      "source": [
        "**Using Gaussian Navie Bayes Algorithm**"
      ],
      "metadata": {
        "id": "O0IUBFOafDv4"
      }
    },
    {
      "cell_type": "code",
      "metadata": {
        "colab": {
          "base_uri": "https://localhost:8080/"
        },
        "id": "q9ty5Z0gdOU3",
        "outputId": "bd49f23d-4467-4017-b753-fbadafc07956"
      },
      "source": [
        "GNB=GaussianNB()\n",
        "GNB.fit(X_train.todense(),Y_train)\n",
        "GNB_predict=GNB.predict(X_test.todense())\n",
        "accuracy_score(GNB_predict,Y_test)"
      ],
      "execution_count": null,
      "outputs": [
        {
          "output_type": "execute_result",
          "data": {
            "text/plain": [
              "0.958970533383066"
            ]
          },
          "metadata": {},
          "execution_count": 164
        }
      ]
    },
    {
      "cell_type": "markdown",
      "source": [
        "Importing Pickle library and convert the file into pickle file for the backend of Mushroom Classification App"
      ],
      "metadata": {
        "id": "z52jMIVLfW3e"
      }
    },
    {
      "cell_type": "markdown",
      "source": [
        "Here i have used OneHotEncoding and RandomForest Classifier Algorithm for the deployment"
      ],
      "metadata": {
        "id": "AH2dsXeuf1KJ"
      }
    },
    {
      "cell_type": "code",
      "metadata": {
        "id": "kJK35x1JeOgV"
      },
      "source": [
        "import pickle\n",
        "rando_forest_model=RRF\n",
        "encodes=encode"
      ],
      "execution_count": null,
      "outputs": []
    },
    {
      "cell_type": "code",
      "metadata": {
        "id": "1OhYw2phhqGn"
      },
      "source": [
        "model_name='model.pkl'\n",
        "encode_name='encode.pkl'\n",
        "\n",
        "model = open(model_name,'wb')\n",
        "pickle.dump(rando_forest_model,model)\n",
        "encode = open(encode_name,'wb')\n",
        "pickle.dump(encodes,encode)\n",
        "\n",
        "model.close()\n",
        "encode.close()\n"
      ],
      "execution_count": null,
      "outputs": []
    },
    {
      "cell_type": "code",
      "metadata": {
        "id": "4rpeyZ6XiYt8"
      },
      "source": [
        "model = open('model.pkl','rb')\n",
        "model = pickle.load(model)"
      ],
      "execution_count": null,
      "outputs": []
    },
    {
      "cell_type": "code",
      "metadata": {
        "id": "uUbRQmzQjLb6"
      },
      "source": [
        "encode = open('encode.pkl','rb')\n",
        "encode = pickle.load(encode)"
      ],
      "execution_count": null,
      "outputs": []
    },
    {
      "cell_type": "code",
      "metadata": {
        "id": "aIdZqxPIZYvc"
      },
      "source": [
        "X=data.drop(['class'],axis=1)"
      ],
      "execution_count": null,
      "outputs": []
    },
    {
      "cell_type": "code",
      "metadata": {
        "id": "f25J5j4aZH68"
      },
      "source": [
        "X_encode=encode.transform(X)"
      ],
      "execution_count": null,
      "outputs": []
    },
    {
      "cell_type": "code",
      "metadata": {
        "id": "DEBfZKWElLZW"
      },
      "source": [
        "predict=model.predict(X_encode)"
      ],
      "execution_count": null,
      "outputs": []
    },
    {
      "cell_type": "code",
      "metadata": {
        "colab": {
          "base_uri": "https://localhost:8080/"
        },
        "id": "5pGWcxphlXAf",
        "outputId": "6f3da7aa-5d1f-4a31-b864-1eefa4ab291d"
      },
      "source": [
        "predict"
      ],
      "execution_count": null,
      "outputs": [
        {
          "output_type": "execute_result",
          "data": {
            "text/plain": [
              "array(['poisonous', 'edible', 'edible', ..., 'edible', 'poisonous',\n",
              "       'edible'], dtype=object)"
            ]
          },
          "metadata": {},
          "execution_count": 172
        }
      ]
    },
    {
      "cell_type": "code",
      "metadata": {
        "id": "Yj8PQKuolYNO"
      },
      "source": [
        "TY=data['class']\n"
      ],
      "execution_count": null,
      "outputs": []
    },
    {
      "cell_type": "code",
      "metadata": {
        "colab": {
          "base_uri": "https://localhost:8080/"
        },
        "id": "JDGNU2zwV08H",
        "outputId": "ad9d4140-cf8b-47db-88f9-8344bac6191c"
      },
      "source": [
        "TY"
      ],
      "execution_count": null,
      "outputs": [
        {
          "output_type": "execute_result",
          "data": {
            "text/plain": [
              "0       poisonous\n",
              "1          edible\n",
              "2          edible\n",
              "3       poisonous\n",
              "4          edible\n",
              "          ...    \n",
              "8119       edible\n",
              "8120       edible\n",
              "8121       edible\n",
              "8122    poisonous\n",
              "8123       edible\n",
              "Name: class, Length: 8124, dtype: object"
            ]
          },
          "metadata": {},
          "execution_count": 174
        }
      ]
    },
    {
      "cell_type": "markdown",
      "source": [
        "Validation of Model"
      ],
      "metadata": {
        "id": "vOVPD9Y9gfZG"
      }
    },
    {
      "cell_type": "code",
      "metadata": {
        "colab": {
          "base_uri": "https://localhost:8080/"
        },
        "id": "OUWC1Fpzlkrx",
        "outputId": "4a79e473-522e-489c-dd89-3c8feeb109ea"
      },
      "source": [
        "accuracy_score(TY,predict)"
      ],
      "execution_count": null,
      "outputs": [
        {
          "output_type": "execute_result",
          "data": {
            "text/plain": [
              "1.0"
            ]
          },
          "metadata": {},
          "execution_count": 175
        }
      ]
    },
    {
      "cell_type": "code",
      "metadata": {
        "id": "xIu8W-Ktlq5-"
      },
      "source": [
        ""
      ],
      "execution_count": null,
      "outputs": []
    }
  ]
}